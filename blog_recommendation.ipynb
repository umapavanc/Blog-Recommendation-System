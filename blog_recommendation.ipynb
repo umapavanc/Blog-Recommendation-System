{
  "cells": [
    {
      "cell_type": "code",
      "execution_count": 1,
      "metadata": {
        "colab": {
          "base_uri": "https://localhost:8080/"
        },
        "id": "quWkA6vYsBm1",
        "outputId": "1410681b-872e-4ebc-dce3-af44bc30aecd"
      },
      "outputs": [
        {
          "output_type": "stream",
          "name": "stdout",
          "text": [
            "Archive:  Final_dataset.zip\n",
            "  inflating: datasets/AI/_most exciting applications of AI in the entertainment industry_2023-03-19_19-05-02.csv  \n",
            "  inflating: datasets/AI/AI  to improve workplace productivity and collaboration_2023-03-19_19-08-05.csv  \n",
            "  inflating: datasets/AI/ai and bias_2023-03-17_19-27-54.csv  \n",
            "  inflating: datasets/AI/ai and discrimination _2023-03-17_19-29-20.csv  \n",
            "  inflating: datasets/AI/ai and education_2023-03-17_19-27-20.csv  \n",
            "  inflating: datasets/AI/ai and food_2023-03-17_19-31-22.csv  \n",
            "  inflating: datasets/AI/ai and mental health_2023-03-17_19-23-59.csv  \n",
            "  inflating: datasets/AI/ai and milatry_2023-03-17_19-15-21.csv  \n",
            "  inflating: datasets/AI/ai and plagiarism _2023-03-17_19-13-26.csv  \n",
            "  inflating: datasets/AI/ai ethics_2023-03-17_19-29-50.csv  \n",
            "  inflating: datasets/AI/ai in gaming_2023-03-17_19-36-42.csv  \n",
            "  inflating: datasets/AI/ai in health industry_2023-03-17_18-41-01.csv  \n",
            "  inflating: datasets/AI/AI to improve agriculture and food production_2023-03-19_19-06-02.csv  \n",
            "  inflating: datasets/AI/AI to improve customer service and user experience_2023-03-19_19-04-01.csv  \n",
            "  inflating: datasets/AI/AI to improve education and learning_2023-03-19_19-05-15.csv  \n",
            "  inflating: datasets/AI/AI to improve financial services and investment management_2023-03-19_19-06-55.csv  \n",
            "  inflating: datasets/AI/AI to improve healthcare and medical research_2023-03-19_19-03-25.csv  \n",
            "  inflating: datasets/AI/AI to improve HR and talent management_2023-03-19_19-09-58.csv  \n",
            "  inflating: datasets/AI/AI to improve logistics and delivery services_2023-03-19_19-10-43.csv  \n",
            "  inflating: datasets/AI/AI to improve manufacturing and supply chain management_2023-03-19_19-07-27.csv  \n",
            "  inflating: datasets/AI/AI to improve public safety and emergency response_2023-03-19_19-08-52.csv  \n",
            "  inflating: datasets/AI/AI to improve transportation infrastructure and urban planning_2023-03-19_19-09-28.csv  \n",
            "  inflating: datasets/AI/ai updates_2023-03-17_18-40-35.csv  \n",
            "  inflating: datasets/AI/ai vs artists_2023-03-17_19-18-20.csv  \n",
            "  inflating: datasets/AI/AIimprove cybersecurity and protect against cyber attacks_2023-03-19_19-04-32.csv  \n",
            "  inflating: datasets/AI/benefits of chatGPT_2023-03-17_19-20-57.csv  \n",
            "  inflating: datasets/AI/challenges and limitations of AI technology_2023-03-19_19-04-20.csv  \n",
            "  inflating: datasets/AI/chatGPT replacing developers_2023-03-17_19-21-30.csv  \n",
            "  inflating: datasets/AI/evolution in ai_2023-03-17_19-31-45.csv  \n",
            "  inflating: datasets/AI/finance and ai_2023-03-17_19-25-28.csv  \n",
            "  inflating: datasets/AI/fun things to do with ai_2023-03-17_19-36-28.csv  \n",
            "  inflating: datasets/AI/interviews with AI industry experts and thought leaders_2023-03-19_19-02-57.csv  \n",
            "  inflating: datasets/AI/Jasper AI commands_2023-03-17_19-12-11.csv  \n",
            "  inflating: datasets/AI/latest developments in AI and machine learning_2023-03-19_19-02-33.csv  \n",
            "  inflating: datasets/AI/latest developments in autonomous vehicles and transportation_2023-03-19_19-04-46.csv  \n",
            "  inflating: datasets/AI/latest developments in computer vision and image recognition_2023-03-19_19-05-25.csv  \n",
            "  inflating: datasets/AI/latest developments in virtual and augmented reality_2023-03-19_19-07-39.csv  \n",
            "  inflating: datasets/AI/latest trends and developments in natural language generation_2023-03-19_19-07-04.csv  \n",
            "  inflating: datasets/AI/natural language processing and conversational AI_2023-03-19_19-04-11.csv  \n",
            "  inflating: datasets/AI/new AI software_2023-03-17_18-24-27.csv  \n",
            "  inflating: datasets/AI/openAI_2023-03-17_18-25-49.csv  \n",
            "  inflating: datasets/AI/rising ai_2023-03-17_19-13-51.csv  \n",
            "  inflating: datasets/AI/roadmap to ai_2023-03-17_19-36-05.csv  \n",
            "  inflating: datasets/AI/scope in AI_2023-03-17_19-24-19.csv  \n",
            "  inflating: datasets/AI/stock market and ai_2023-03-17_19-25-50.csv  \n",
            "  inflating: datasets/AI/the ethics and societal impacts of AI technology_2023-03-19_19-03-36.csv  \n",
            "  inflating: datasets/AI/the latest developments in generative models and creative AI_2023-03-19_19-09-37.csv  \n",
            "  inflating: datasets/AI/the latest developments in predictive analytics and forecasting_2023-03-19_19-08-31.csv  \n",
            "  inflating: datasets/AI/the latest developments in robotics and automation_2023-03-19_19-06-15.csv  \n",
            "  inflating: datasets/AI/the latest developments in speech recognition and voice technology_2023-03-19_19-10-56.csv  \n",
            "  inflating: datasets/AI/the latest trends and developments in chatbots and virtual assistants_2023-03-19_19-09-00.csv  \n",
            "  inflating: datasets/AI/the latest trends and developments in reinforcement learning_2023-03-19_19-10-14.csv  \n",
            "  inflating: datasets/AI/the most exciting AI applications being developed for the travel industry_2023-03-19_19-11-18.csv  \n",
            "  inflating: datasets/AI/the most exciting AI startups focused on e-commerce and retail_2023-03-19_19-08-42.csv  \n",
            "  inflating: datasets/AI/the most innovative AI applications being developed for the energy industry_2023-03-19_19-07-53.csv  \n",
            "  inflating: datasets/AI/the most innovative AI applications being developed for the gaming industry_2023-03-19_19-09-46.csv  \n",
            "  inflating: datasets/AI/the most innovative AI applications being developed today_2023-03-19_19-03-08.csv  \n",
            "  inflating: datasets/AI/the most interesting applications of AI in the legal industry_2023-03-19_19-06-37.csv  \n",
            "  inflating: datasets/AI/the most promising AI startups focused on environmental sustainability_2023-03-19_19-05-47.csv  \n",
            "  inflating: datasets/AI/the most promising AI startups focused on financial technology and payments_2023-03-19_19-09-12.csv  \n",
            "  inflating: datasets/AI/the most promising AI startups focused on social impact and humanitarian aid_2023-03-19_19-07-12.csv  \n",
            "  inflating: datasets/AI/the most promising AI startups focused on the real estate industry_2023-03-19_19-10-31.csv  \n",
            "  inflating: datasets/AI/the most promising startups in the AI industry_2023-03-19_19-03-48.csv  \n",
            "  inflating: datasets/AI/What is chatGPT 4_2023-03-17_19-20-40.csv  \n",
            "  inflating: datasets/AI/what is chatGPT_2023-03-17_19-20-12.csv  \n",
            "  inflating: datasets/AI/Will AI writers replace human writers_2023-03-17_19-11-20.csv  \n",
            "  inflating: datasets/Crypto/best investor in crypto currency_2023-03-17_23-22-40.csv  \n",
            "  inflating: datasets/Crypto/business from crypto_2023-03-17_23-26-50.csv  \n",
            "  inflating: datasets/Crypto/chatGPT and crypto_2023-03-17_23-19-17.csv  \n",
            "  inflating: datasets/Crypto/crypto and polution_2023-03-17_23-23-33.csv  \n",
            "  inflating: datasets/Crypto/crypto industry_2023-03-17_23-19-47.csv  \n",
            "  inflating: datasets/Crypto/crypto loss stories_2023-03-17_23-16-29.csv  \n",
            "  inflating: datasets/Crypto/crypto success story_2023-03-17_23-16-12.csv  \n",
            "  inflating: datasets/Crypto/crypto vs stock vs real estate_2023-03-17_23-20-43.csv  \n",
            "  inflating: datasets/Crypto/crypto_2023-03-17_23-10-05.csv  \n",
            "  inflating: datasets/Crypto/Cryptocurrency apps_2023-03-17_23-11-35.csv  \n",
            "  inflating: datasets/Crypto/Cryptocurrency for beginners_2023-03-17_23-12-24.csv  \n",
            "  inflating: datasets/Crypto/Cryptocurrency investing_2023-03-17_23-14-00.csv  \n",
            "  inflating: datasets/Crypto/Cryptocurrency market_2023-03-17_23-10-55.csv  \n",
            "  inflating: datasets/Crypto/Cryptocurrency trends_2023-03-17_23-14-25.csv  \n",
            "  inflating: datasets/Crypto/evolution of crypto currency_2023-03-17_23-24-54.csv  \n",
            "  inflating: datasets/Crypto/future of crypto currency_2023-03-17_23-24-00.csv  \n",
            "  inflating: datasets/Crypto/how can I use bitcoin_2023-03-17_23-21-22.csv  \n",
            "  inflating: datasets/Crypto/how to earn most by investing in crypto currency_2023-03-17_23-18-40.csv  \n",
            "  inflating: datasets/Crypto/latest news about crypto_2023-03-17_23-19-02.csv  \n",
            "  inflating: datasets/Crypto/what is bitcoin_2023-03-17_23-17-03.csv  \n",
            "  inflating: datasets/Crypto/when to buy crypto_2023-03-17_23-21-41.csv  \n",
            "  inflating: datasets/Crypto/when to sell crypto_2023-03-17_23-22-10.csv  \n",
            "  inflating: datasets/Crypto/which crypto currency is better_2023-03-17_23-15-36.csv  \n",
            "  inflating: datasets/Crypto/why bitcoin is so expensive_2023-03-17_23-17-32.csv  \n",
            "  inflating: datasets/Crypto/why bitcoin price dropped_2023-03-17_23-17-51.csv  \n",
            "  inflating: datasets/Crypto/why crypto market is down_2023-03-17_23-18-11.csv  \n",
            "  inflating: datasets/Fashion/accessory to improve the fashion_2023-03-17_22-57-53.csv  \n",
            "  inflating: datasets/Fashion/animal prints as a fashion_2023-03-19_18-52-04.csv  \n",
            "  inflating: datasets/Fashion/Arab Fashion Week_2023-03-17_22-41-27.csv  \n",
            "  inflating: datasets/Fashion/Atlantic-Pacific fashion_2023-03-17_22-47-59.csv  \n",
            "  inflating: datasets/Fashion/award show fashion_2023-03-17_22-55-02.csv  \n",
            "  inflating: datasets/Fashion/best fashion apps for style inspiration_2023-03-19_18-49-23.csv  \n",
            "  inflating: datasets/Fashion/best fashion documentaries to watch_2023-03-19_18-54-41.csv  \n",
            "  inflating: datasets/Fashion/best fashion podcasts to listen to_2023-03-19_18-52-32.csv  \n",
            "  inflating: datasets/Fashion/capsule wardrobe_2023-03-19_18-50-10.csv  \n",
            "  inflating: datasets/Fashion/celebrity fashion_2023-03-17_22-51-20.csv  \n",
            "  inflating: datasets/Fashion/cheap fashion_2023-03-17_22-52-29.csv  \n",
            "  inflating: datasets/Fashion/controversial fashion_2023-03-17_22-54-39.csv  \n",
            "  inflating: datasets/Fashion/different types of fabrics used in fashion_2023-03-19_18-49-30.csv  \n",
            "  inflating: datasets/Fashion/different types of hats for men and women_2023-03-19_18-55-48.csv  \n",
            "  inflating: datasets/Fashion/different types of scarves for men and women_2023-03-19_18-58-52.csv  \n",
            "  inflating: datasets/Fashion/different types of shoes for men_2023-03-19_18-53-00.csv  \n",
            "  inflating: datasets/Fashion/different types of shoes for women_2023-03-19_18-52-41.csv  \n",
            "  inflating: datasets/Fashion/different types of skirts for women_2023-03-19_18-58-03.csv  \n",
            "  inflating: datasets/Fashion/different types of sunglasses for men and women_2023-03-19_18-54-01.csv  \n",
            "  inflating: datasets/Fashion/dress for a black-tie event_2023-03-19_18-58-15.csv  \n",
            "  inflating: datasets/Fashion/dress for a job interview_2023-03-19_18-52-21.csv  \n",
            "  inflating: datasets/Fashion/dress for a winter wedding_2023-03-19_18-55-09.csv  \n",
            "  inflating: datasets/Fashion/Elle_2023-03-17_22-46-12.csv  \n",
            "  inflating: datasets/Fashion/evolution of fashion_2023-03-17_23-02-46.csv  \n",
            "  inflating: datasets/Fashion/fashion 2020_2023-03-17_22-54-09.csv  \n",
            "  inflating: datasets/Fashion/fashion 2021_2023-03-17_22-53-55.csv  \n",
            "  inflating: datasets/Fashion/fashion 2022_2023-03-17_22-53-22.csv  \n",
            "  inflating: datasets/Fashion/fashion 2023_2023-03-17_22-53-38.csv  \n",
            "  inflating: datasets/Fashion/fashion and festivals_2023-03-17_22-50-14.csv  \n",
            "  inflating: datasets/Fashion/fashion competition _2023-03-17_22-50-43.csv  \n",
            "  inflating: datasets/Fashion/fashion industry_2023-03-17_23-01-31.csv  \n",
            "  inflating: datasets/Fashion/fashion influencer _2023-03-17_22-37-07.csv  \n",
            "  inflating: datasets/Fashion/fashion inspiration_2023-03-17_22-52-11.csv  \n",
            "  inflating: datasets/Fashion/fashion shoot_2023-03-17_22-58-18.csv  \n",
            "  inflating: datasets/Fashion/fashion shows_2023-03-17_22-36-44.csv  \n",
            "  inflating: datasets/Fashion/fashion_2023-03-17_22-36-26.csv  \n",
            "  inflating: datasets/Fashion/Flacon Magazine_2023-03-17_22-45-46.csv  \n",
            "  inflating: datasets/Fashion/future of fashion_2023-03-17_23-01-49.csv  \n",
            "  inflating: datasets/Fashion/Good On You_2023-03-17_22-44-52.csv  \n",
            "  inflating: datasets/Fashion/How to style oversized clothing__2023-03-19_18-49-10.csv  \n",
            "  inflating: datasets/Fashion/incorporate vintage clothing_2023-03-19_18-49-48.csv  \n",
            "  inflating: datasets/Fashion/jewelry fashion _2023-03-17_22-57-05.csv  \n",
            "  inflating: datasets/Fashion/John Frieda_2023-03-17_22-44-21.csv  \n",
            "  inflating: datasets/Fashion/latest fashion collaborations_2023-03-19_18-49-57.csv  \n",
            "  inflating: datasets/Fashion/latest fashion_2023-03-17_22-52-56.csv  \n",
            "  inflating: datasets/Fashion/latest streetwear trends_2023-03-19_18-54-30.csv  \n",
            "  inflating: datasets/Fashion/latest trends in designer handbags_2023-03-19_18-54-55.csv  \n",
            "  inflating: datasets/Fashion/latest trends in jewelry_2023-03-19_18-56-30.csv  \n",
            "  inflating: datasets/Fashion/latest trends in men's suits_2023-03-19_18-58-24.csv  \n",
            "  inflating: datasets/Fashion/latest trends in sustainable fashion_2023-03-19_18-53-25.csv  \n",
            "  inflating: datasets/Fashion/London Fashion Week_2023-03-17_22-41-16.csv  \n",
            "  inflating: datasets/Fashion/MAGIC Las Vegas_2023-03-17_22-38-18.csv  \n",
            "  inflating: datasets/Fashion/MICAM Milano_2023-03-17_22-38-49.csv  \n",
            "  inflating: datasets/Fashion/Milan Fashion Week_2023-03-17_22-40-34.csv  \n",
            "  inflating: datasets/Fashion/monsoon fashion_2023-03-17_23-00-27.csv  \n",
            "  inflating: datasets/Fashion/New York Fashion Week_2023-03-17_22-41-02.csv  \n",
            "  inflating: datasets/Fashion/NSS Mag_2023-03-17_22-45-35.csv  \n",
            "  inflating: datasets/Fashion/Russia Fashion Week_2023-03-17_22-42-38.csv  \n",
            "  inflating: datasets/Fashion/shoes in fashion_2023-03-17_22-58-53.csv  \n",
            "  inflating: datasets/Fashion/spring fashion_2023-03-17_23-00-50.csv  \n",
            "  inflating: datasets/Fashion/style a statement piece_2023-03-19_18-54-49.csv  \n",
            "  inflating: datasets/Fashion/style denim clothing_2023-03-19_18-55-32.csv  \n",
            "  inflating: datasets/Fashion/style floral clothing_2023-03-19_18-57-17.csv  \n",
            "  inflating: datasets/Fashion/style graphic clothing_2023-03-19_18-58-39.csv  \n",
            "  inflating: datasets/Fashion/style leather clothing_2023-03-19_18-53-09.csv  \n",
            "  inflating: datasets/Fashion/style plaid clothing_2023-03-19_18-53-52.csv  \n",
            "  inflating: datasets/Fashion/summer fashion_2023-03-17_22-59-21.csv  \n",
            "  inflating: datasets/Fashion/Texworld Paris_2023-03-17_22-38-31.csv  \n",
            "  inflating: datasets/Fashion/the best fashion books to read_2023-03-19_18-57-44.csv  \n",
            "  inflating: datasets/Fashion/the best fashion Instagram accounts to follow_2023-03-19_18-55-20.csv  \n",
            "  inflating: datasets/Fashion/the best online fashion retailers_2023-03-19_18-53-37.csv  \n",
            "  inflating: datasets/Fashion/the most popular designer brands_2023-03-19_18-50-19.csv  \n",
            "  inflating: datasets/Fashion/the most popular fashion exhibitions_2023-03-19_18-57-09.csv  \n",
            "  inflating: datasets/Fashion/the most popular fashion magazines_2023-03-19_18-51-32.csv  \n",
            "  inflating: datasets/Fashion/the Paris Fashion Week_2023-03-17_22-39-51.csv  \n",
            "  inflating: datasets/Fashion/tiktok fashion trend_2023-03-17_22-40-18.csv  \n",
            "  inflating: datasets/Fashion/top fashion influencers on social media_2023-03-19_18-52-11.csv  \n",
            "  inflating: datasets/Fashion/Vancouver Fashion Week_2023-03-17_22-42-14.csv  \n",
            "  inflating: datasets/Fashion/wardrobe upgrade_2023-03-17_22-48-54.csv  \n",
            "  inflating: datasets/Fashion/We Wore What_2023-03-17_22-46-59.csv  \n",
            "  inflating: datasets/Fashion/What are the latest fashion trends for this season__2023-03-19_18-49-03.csv  \n",
            "  inflating: datasets/Fashion/Who What Wear_2023-03-17_22-46-28.csv  \n",
            "  inflating: datasets/Fashion/winter fashion_2023-03-17_23-00-06.csv  \n",
            "  inflating: datasets/Food/5 minute ready tasty food recipes_2023-03-17_23-42-19.csv  \n",
            "  inflating: datasets/Food/basics rules of cooking_2023-03-18_00-03-35.csv  \n",
            "  inflating: datasets/Food/benefits of vegan food_2023-03-17_23-34-31.csv  \n",
            "  inflating: datasets/Food/best breakfast to have every morning_2023-03-17_23-54-18.csv  \n",
            "  inflating: datasets/Food/best food after workout_2023-03-18_00-09-34.csv  \n",
            "  inflating: datasets/Food/best food before workout_2023-03-18_00-09-44.csv  \n",
            "  inflating: datasets/Food/best street foods_2023-03-17_23-39-38.csv  \n",
            "  inflating: datasets/Food/best sweet dishes to eat after dineer_2023-03-17_23-40-59.csv  \n",
            "  inflating: datasets/Food/cooking essentials_2023-03-17_23-32-30.csv  \n",
            "  inflating: datasets/Food/food shortage around the world_2023-03-17_23-31-05.csv  \n",
            "  inflating: datasets/Food/food wastage around the world_2023-03-17_23-31-41.csv  \n",
            "  inflating: datasets/Food/healthy food recipes _2023-03-17_23-39-05.csv  \n",
            "  inflating: datasets/Food/how to boil egg perfectyly_2023-03-18_00-01-47.csv  \n",
            "  inflating: datasets/Food/how to find ingredients for vegan food_2023-03-17_23-55-15.csv  \n",
            "  inflating: datasets/Food/how to maintain nutrition in  food_2023-03-17_23-38-23.csv  \n",
            "  inflating: datasets/Food/how to make breakfast with leftovers from dinner_2023-03-18_00-06-01.csv  \n",
            "  inflating: datasets/Food/how to make vegan food taste better_2023-03-17_23-33-54.csv  \n",
            "  inflating: datasets/Food/how to use chatGPT to find recipes_2023-03-18_00-09-04.csv  \n",
            "  inflating: datasets/Food/importance of breakfast_2023-03-17_23-54-31.csv  \n",
            "  inflating: datasets/Food/instance breakfas_2023-03-18_00-05-00.csv  \n",
            "  inflating: datasets/Food/is vegan food better than non vegetarian food_2023-03-17_23-33-27.csv  \n",
            "  inflating: datasets/Food/rate the country by food_2023-03-17_23-36-45.csv  \n",
            "  inflating: datasets/Food/recipe with minimum ingredients_2023-03-18_00-06-26.csv  \n",
            "  inflating: datasets/Food/top restaurants around the world_2023-03-17_23-34-56.csv  \n",
            "  inflating: datasets/Food/vegan food vs vegetarian food_2023-03-17_23-32-59.csv  \n",
            "  inflating: datasets/Food/what are substitute for vegan food _2023-03-18_00-07-32.csv  \n",
            "  inflating: datasets/Food/which country has the best food_2023-03-17_23-35-59.csv  \n",
            "  inflating: datasets/Health & lifestyle/alcohol_2023-03-17_18-00-26.csv  \n",
            "  inflating: datasets/Health & lifestyle/analyticsvidhya_2023-03-17_17-41-11.csv  \n",
            "  inflating: datasets/Health & lifestyle/BMI_2023-03-17_17-53-56.csv  \n",
            "  inflating: datasets/Health & lifestyle/challenges  _2023-03-17_18-02-14.csv  \n",
            "  inflating: datasets/Health & lifestyle/coach_2023-03-17_18-02-52.csv  \n",
            "  inflating: datasets/Health & lifestyle/detailed.com_2023-03-17_17-41-30.csv  \n",
            "  inflating: datasets/Health & lifestyle/diet plan_2023-03-17_17-41-41.csv  \n",
            "  inflating: datasets/Health & lifestyle/dlabs.ai_2023-03-17_17-43-38.csv  \n",
            "  inflating: datasets/Health & lifestyle/easy diet_2023-03-17_17-44-01.csv  \n",
            "  inflating: datasets/Health & lifestyle/exercise_2023-03-17_17-44-50.csv  \n",
            "  inflating: datasets/Health & lifestyle/fast food_2023-03-17_17-59-49.csv  \n",
            "  inflating: datasets/Health & lifestyle/fat loss_2023-03-17_17-45-20.csv  \n",
            "  inflating: datasets/Health & lifestyle/fitness apps_2023-03-17_17-56-53.csv  \n",
            "  inflating: datasets/Health & lifestyle/fitness bands_2023-03-17_18-01-11.csv  \n",
            "  inflating: datasets/Health & lifestyle/fitness_2023-03-17_17-45-35.csv  \n",
            "  inflating: datasets/Health & lifestyle/great learning_2023-03-17_17-45-54.csv  \n",
            "  inflating: datasets/Health & lifestyle/gym_2023-03-17_17-46-28.csv  \n",
            "  inflating: datasets/Health & lifestyle/happiness_2023-03-17_17-46-41.csv  \n",
            "  inflating: datasets/Health & lifestyle/harvard_2023-03-17_17-47-26.csv  \n",
            "  inflating: datasets/Health & lifestyle/home gym_2023-03-17_17-47-53.csv  \n",
            "  inflating: datasets/Health & lifestyle/kaggle_2023-03-17_17-48-05.csv  \n",
            "  inflating: datasets/Health & lifestyle/keto_2023-03-17_17-48-45.csv  \n",
            "  inflating: datasets/Health & lifestyle/meditation_2023-03-17_17-57-22.csv  \n",
            "  inflating: datasets/Health & lifestyle/ml cmu blog_2023-03-17_17-50-17.csv  \n",
            "  inflating: datasets/Health & lifestyle/motivation_2023-03-17_18-03-49.csv  \n",
            "  inflating: datasets/Health & lifestyle/nutrition_2023-03-17_17-58-58.csv  \n",
            "  inflating: datasets/Health & lifestyle/protien_2023-03-17_17-59-26.csv  \n",
            "  inflating: datasets/Health & lifestyle/sleep_2023-03-17_17-50-49.csv  \n",
            "  inflating: datasets/Health & lifestyle/stress_2023-03-17_17-51-24.csv  \n",
            "  inflating: datasets/Health & lifestyle/track health_2023-03-17_17-53-38.csv  \n",
            "  inflating: datasets/Health & lifestyle/vegan diet plan_2023-03-17_17-54-23.csv  \n",
            "  inflating: datasets/Health & lifestyle/webmd_2023-03-17_17-54-34.csv  \n",
            "  inflating: datasets/Health & lifestyle/workout_2023-03-17_17-35-40.csv  \n",
            "  inflating: datasets/Health & lifestyle/yoga_2023-03-17_17-55-37.csv  \n",
            "  inflating: datasets/Health & lifestyle/youTube videos_2023-03-17_18-03-20.csv  \n",
            "  inflating: datasets/Health & lifestyle/zumba_2023-03-17_17-56-17.csv  \n",
            "  inflating: datasets/Music/best music apps_2023-03-18_15-36-16.csv  \n",
            "  inflating: datasets/Music/bollywood music industry_2023-03-18_16-02-26.csv  \n",
            "  inflating: datasets/Music/Evolution in music industry_2023-03-18_16-00-56.csv  \n",
            "  inflating: datasets/Music/famous music celebrities_2023-03-18_15-32-12.csv  \n",
            "  inflating: datasets/Music/grammy awards 2020_2023-03-18_15-34-30.csv  \n",
            "  inflating: datasets/Music/grammy awards 2021_2023-03-18_15-34-15.csv  \n",
            "  inflating: datasets/Music/grammy awards 2022_2023-03-18_15-33-58.csv  \n",
            "  inflating: datasets/Music/hollywood music industry updates_2023-03-18_15-40-40.csv  \n",
            "  inflating: datasets/Music/how to become a music composer _2023-03-18_15-51-52.csv  \n",
            "  inflating: datasets/Music/how to become a song writer_2023-03-18_15-51-27.csv  \n",
            "  inflating: datasets/Music/how to get famous as a singer_2023-03-18_15-52-22.csv  \n",
            "  inflating: datasets/Music/how to write music related blogs_2023-03-18_15-32-59.csv  \n",
            "  inflating: datasets/Music/music awards 2022_2023-03-18_15-33-32.csv  \n",
            "  inflating: datasets/Music/Music shows_2023-03-18_15-42-19.csv  \n",
            "  inflating: datasets/Music/new songs release 2023_2023-03-18_15-35-14.csv  \n",
            "  inflating: datasets/Music/old is gold songs_2023-03-18_15-47-10.csv  \n",
            "  inflating: datasets/Music/oscar awards winning song 2023_2023-03-18_15-38-02.csv  \n",
            "  inflating: datasets/Music/revolution in music_2023-03-18_15-52-47.csv  \n",
            "  inflating: datasets/Music/upcoming music events _2023-03-18_15-42-41.csv  \n",
            "  inflating: datasets/Political/Are there any blogs that discuss the impact of immigration and multiculturalism on politics__2023-03-18_16-18-15.csv  \n",
            "  inflating: datasets/Political/Are there any blogs that discuss the impact of political decisions on the environment and sustainability__2023-03-18_16-15-57.csv  \n",
            "  inflating: datasets/Political/Are there any blogs that discuss the role of education in shaping political awareness and engagement__2023-03-18_16-20-34.csv  \n",
            "  inflating: datasets/Political/Are there any blogs that discuss the role of sports and athletics in political activism and change__2023-03-18_16-24-39.csv  \n",
            "  inflating: datasets/Political/Are there any blogs that provide a forum for political satire and humor__2023-03-18_16-17-29.csv  \n",
            "  inflating: datasets/Political/Are there any blogs that provide insights into the relationship between politics and the economy__2023-03-18_16-15-15.csv  \n",
            "  inflating: datasets/Political/Are there any blogs that specifically cater to minority political voices and perspectives__2023-03-18_16-23-44.csv  \n",
            "  inflating: datasets/Political/Are there any blogs that specifically cater to young voters and their political concerns__2023-03-18_16-16-43.csv  \n",
            "  inflating: datasets/Political/Are there any blogs that specifically discuss the impact of COVID-19 on politics and public health policies__2023-03-18_16-23-02.csv  \n",
            "  inflating: datasets/Political/Are there any podcasts that discuss the impact of immigration and multiculturalism on politics__2023-03-18_16-09-48.csv  \n",
            "  inflating: datasets/Political/Are there any podcasts that discuss the impact of political decisions on the economy and business__2023-03-18_16-08-13.csv  \n",
            "  inflating: datasets/Political/Are there any podcasts that discuss the role of education in shaping political awareness and engagement__2023-03-18_16-10-33.csv  \n",
            "  inflating: datasets/Political/Are there any podcasts that discuss the role of sports and athletics in political activism and change__2023-03-18_16-12-45.csv  \n",
            "  inflating: datasets/Political/Are there any podcasts that provide a behind-the-scenes look at political campaigns and elections__2023-03-18_16-07-37.csv  \n",
            "  inflating: datasets/Political/Are there any podcasts that provide a forum for political satire and comedy__2023-03-18_16-09-17.csv  \n",
            "  inflating: datasets/Political/Are there any podcasts that provide historical context for current political issues__2023-03-18_16-06-54.csv  \n",
            "  inflating: datasets/Political/Are there any podcasts that specifically cater to minority political voices and perspectives__2023-03-18_16-12-16.csv  \n",
            "  inflating: datasets/Political/Are there any podcasts that specifically cater to young voters and their political concerns__2023-03-18_16-08-42.csv  \n",
            "  inflating: datasets/Political/Are there any podcasts that specifically discuss the impact of COVID-19 on politics and public health policies__2023-03-18_16-11-13.csv  \n",
            "  inflating: datasets/Political/Can you recommend any blogs that explore the history of political scandals and corruption__2023-03-18_16-16-18.csv  \n",
            "  inflating: datasets/Political/Can you recommend any blogs that explore the impact of climate change on political systems and decision-making__2023-03-18_16-17-00.csv  \n",
            "  inflating: datasets/Political/Can you recommend any blogs that explore the impact of military and defense policies on politics__2023-03-18_16-22-44.csv  \n",
            "  inflating: datasets/Political/Can you recommend any blogs that explore the impact of political decisions on marginalized communities__2023-03-18_16-24-00.csv  \n",
            "  inflating: datasets/Political/Can you recommend any blogs that explore the impact of technology on politics and democracy__2023-03-18_16-15-32.csv  \n",
            "  inflating: datasets/Political/Can you recommend any blogs that offer insights into the political dimensions of art and culture__2023-03-18_16-23-29.csv  \n",
            "  inflating: datasets/Political/Can you recommend any blogs that offer insights into the psychology of political decision-making__2023-03-18_16-17-50.csv  \n",
            "  inflating: datasets/Political/Can you recommend any blogs that provide a behind-the-scenes look at political campaigns and elections__2023-03-18_16-14-45.csv  \n",
            "  inflating: datasets/Political/Can you recommend any blogs that provide a global perspective on political issues and events__2023-03-18_16-19-53.csv  \n",
            "  inflating: datasets/Political/Can you recommend any podcasts that explore the history of political scandals and corruption__2023-03-18_16-08-25.csv  \n",
            "  inflating: datasets/Political/Can you recommend any podcasts that explore the impact of climate change on political systems and decision-making__2023-03-18_16-08-58.csv  \n",
            "  inflating: datasets/Political/Can you recommend any podcasts that explore the impact of military and defense policies on politics__2023-03-18_16-10-49.csv  \n",
            "  inflating: datasets/Political/Can you recommend any podcasts that explore the impact of political decisions on marginalized communities__2023-03-18_16-12-28.csv  \n",
            "  inflating: datasets/Political/Can you recommend any podcasts that explore the impact of technology on politics and democracy__2023-03-18_16-07-54.csv  \n",
            "  inflating: datasets/Political/Can you recommend any podcasts that focus on international politics and global affairs__2023-03-18_16-06-29.csv  \n",
            "  inflating: datasets/Political/Can you recommend any podcasts that focus on political activism and social justice movements__2023-03-18_16-07-12.csv  \n",
            "  inflating: datasets/Political/Can you recommend any podcasts that offer insights into the political dimensions of art and culture__2023-03-18_16-12-00.csv  \n",
            "  inflating: datasets/Political/Can you recommend any podcasts that offer insights into the psychology of political decision-making__2023-03-18_16-09-33.csv  \n",
            "  inflating: datasets/Political/Can you recommend any podcasts that provide a global perspective on political issues and events__2023-03-18_16-10-08.csv  \n",
            "  inflating: datasets/Political/What are some blogs that discuss the role of civic engagement in promoting political change__2023-03-18_16-23-35.csv  \n",
            "  inflating: datasets/Political/What are some blogs that discuss the role of money and finance in politics__2023-03-18_16-14-58.csv  \n",
            "  inflating: datasets/Political/What are some blogs that explore the relationship between race and politics__2023-03-18_16-17-59.csv  \n",
            "  inflating: datasets/Political/What are some blogs that offer a historical analysis of political revolutions and uprisings__2023-03-18_16-20-10.csv  \n",
            "  inflating: datasets/Political/What are some blogs that offer a historical perspective on political revolutions and uprisings__2023-03-18_16-24-08.csv  \n",
            "  inflating: datasets/Political/What are some blogs that offer analysis and commentary on political speeches and debates__2023-03-18_16-17-17.csv  \n",
            "  inflating: datasets/Political/What are some blogs that offer analysis and commentary on the role of the judiciary in upholding human rights__2023-03-18_16-22-53.csv  \n",
            "  inflating: datasets/Political/What are some podcasts that discuss the role of civic engagement in promoting political change__2023-03-18_16-12-06.csv  \n",
            "  inflating: datasets/Political/What are some podcasts that discuss the role of money and finance in politics__2023-03-18_16-07-25.csv  \n",
            "  inflating: datasets/Political/What are some podcasts that explore the relationship between race and politics__2023-03-18_16-09-40.csv  \n",
            "  inflating: datasets/Political/What are some podcasts that offer a historical analysis of political revolutions and uprisings__2023-03-18_16-10-23.csv  \n",
            "  inflating: datasets/Political/What are some podcasts that offer a historical perspective on political revolutions and uprisings__2023-03-18_16-12-35.csv  \n",
            "  inflating: datasets/Political/What are some podcasts that offer analysis and commentary on the role of the judiciary in upholding human rights__2023-03-18_16-10-58.csv  \n",
            "  inflating: datasets/Political/What are some podcasts that offer analysis and commentary on the US political system and its workings__2023-03-18_16-08-01.csv  \n",
            "  inflating: datasets/Political/What are some podcasts that provide a platform for diverse political voices and perspectives__2023-03-18_16-08-34.csv  \n",
            "  inflating: datasets/Political/What are the best political podcasts to listen to__2023-03-18_16-06-16.csv  \n",
            "  inflating: datasets/Political/What blogs focus on political activism and social justice movements__2023-03-18_16-14-31.csv  \n",
            "  inflating: datasets/Political/What blogs focus on the history of political thought and philosophy__2023-03-18_16-15-22.csv  \n",
            "  inflating: datasets/Political/What blogs focus on the impact of globalization and trade on political systems__2023-03-18_16-23-22.csv  \n",
            "  inflating: datasets/Political/What blogs focus on the relationship between politics and religion__2023-03-18_16-16-51.csv  \n",
            "  inflating: datasets/Political/What blogs focus on the role of diplomacy and international relations in political decision-making__2023-03-18_16-21-20.csv  \n",
            "  inflating: datasets/Political/What blogs focus on the role of law and the judiciary in political systems__2023-03-18_16-17-42.csv  \n",
            "  inflating: datasets/Political/What blogs focus on the role of media in shaping political discourse and public opinion__2023-03-18_16-16-08.csv  \n",
            "  inflating: datasets/Political/What blogs focus on the role of political institutions in upholding democratic values and principles__2023-03-18_16-23-53.csv  \n",
            "  inflating: datasets/Political/What blogs focus on the role of women in politics and leadership__2023-03-18_16-19-40.csv  \n",
            "  inflating: datasets/Political/What blogs offer commentary on international politics and global affairs__2023-03-18_16-14-06.csv  \n",
            "  inflating: datasets/Political/What podcasts explore the intersection of politics and culture__2023-03-18_16-07-02.csv  \n",
            "  inflating: datasets/Political/What podcasts focus on the history of political thought and philosophy__2023-03-18_16-07-47.csv  \n",
            "  inflating: datasets/Political/What podcasts focus on the impact of globalization and trade on political systems__2023-03-18_16-11-54.csv  \n",
            "  inflating: datasets/Political/What podcasts focus on the relationship between politics and religion__2023-03-18_16-08-51.csv  \n",
            "  inflating: datasets/Political/What podcasts focus on the role of diplomacy and international relations in political decision-making__2023-03-18_16-10-39.csv  \n",
            "  inflating: datasets/Political/What podcasts focus on the role of law and the judiciary in political systems__2023-03-18_16-09-24.csv  \n",
            "  inflating: datasets/Political/What podcasts focus on the role of political institutions in upholding democratic values and principles__2023-03-18_16-12-21.csv  \n",
            "  inflating: datasets/Political/What podcasts focus on the role of women in politics and leadership__2023-03-18_16-09-57.csv  \n",
            "  inflating: datasets/Political/What podcasts offer analysis and commentary on current political events and news__2023-03-18_16-06-43.csv  \n",
            "  inflating: datasets/Sports/Are there any blogs that discuss the impact of sports on mental health and well-being__2023-03-19_17-59-47.csv  \n",
            "  inflating: datasets/Sports/Are there any blogs that discuss the impact of sports on personal development and growth__2023-03-19_18-00-40.csv  \n",
            "  inflating: datasets/Sports/Are there any blogs that discuss the impact of sports on social and cultural issues__2023-03-19_18-02-19.csv  \n",
            "  inflating: datasets/Sports/Are there any blogs that discuss the impact of sports on the environment__2023-03-19_18-04-13.csv  \n",
            "  inflating: datasets/Sports/Are there any blogs that provide insights into the world of figure skating__2023-03-19_18-01-31.csv  \n",
            "  inflating: datasets/Sports/Are there any blogs that provide insights into the world of horse racing__2023-03-19_18-03-18.csv  \n",
            "  inflating: datasets/Sports/Are there any blogs that provide insights into the world of tennis__2023-03-19_17-57-50.csv  \n",
            "  inflating: datasets/Sports/Can you recommend any blogs that explore the role of nutrition in sports performance__2023-03-19_18-01-01.csv  \n",
            "  inflating: datasets/Sports/Can you recommend any blogs that explore the role of sports in promoting social change__2023-03-19_18-02-45.csv  \n",
            "  inflating: datasets/Sports/Can you recommend any blogs that explore the role of technology in sports__2023-03-19_17-58-16.csv  \n",
            "  inflating: datasets/Sports/Can you recommend any blogs that provide a behind-the-scenes look at professional sports__2023-03-19_18-03-45.csv  \n",
            "  inflating: datasets/Sports/Can you recommend any blogs that provide a historical perspective on sports events and athletes__2023-03-19_18-01-55.csv  \n",
            "  inflating: datasets/Sports/Can you recommend any blogs that provide a historical perspective on sports__2023-03-19_17-59-16.csv  \n",
            "  inflating: datasets/Sports/Can you recommend any blogs that provide insights into the world of cycling__2023-03-19_18-00-08.csv  \n",
            "  inflating: datasets/Sports/What are some blogs that offer analysis and commentary on athletics and track and field events__2023-03-19_18-01-12.csv  \n",
            "  inflating: datasets/Sports/What are some blogs that offer analysis and commentary on baseball games and teams__2023-03-19_17-58-28.csv  \n",
            "  inflating: datasets/Sports/What are some blogs that offer analysis and commentary on combat sports like boxing and MMA__2023-03-19_18-00-24.csv  \n",
            "  inflating: datasets/Sports/What are some blogs that offer analysis and commentary on Olympic events and athletes__2023-03-19_17-59-30.csv  \n",
            "  inflating: datasets/Sports/What are some blogs that offer analysis and commentary on the world of sports betting and gambling__2023-03-19_18-03-06.csv  \n",
            "  inflating: datasets/Sports/What are some blogs that offer analysis and commentary on the world of sports broadcasting and media__2023-03-19_18-02-06.csv  \n",
            "  inflating: datasets/Sports/What are some blogs that offer analysis and commentary on the world of sports sponsorship and marketing__2023-03-19_18-04-01.csv  \n",
            "  inflating: datasets/Sports/What are the best sports blogs to read for news and analysis__2023-03-19_17-56-38.csv  \n",
            "  inflating: datasets/Sports/What blogs focus on the latest news and trends in esports__2023-03-19_18-00-50.csv  \n",
            "  inflating: datasets/Sports/What blogs focus on the latest news and trends in extreme sports__2023-03-19_17-59-59.csv  \n",
            "  inflating: datasets/Sports/What blogs focus on the latest news and trends in golf__2023-03-19_17-58-03.csv  \n",
            "  inflating: datasets/Sports/What blogs focus on the latest news and trends in gymnastics and acrobatics__2023-03-19_18-04-27.csv  \n",
            "  inflating: datasets/Sports/What blogs focus on the latest news and trends in motorsports__2023-03-19_17-58-54.csv  \n",
            "  inflating: datasets/Sports/What blogs focus on the latest news and trends in skiing and snowboarding__2023-03-19_18-02-27.csv  \n",
            "  inflating: datasets/Sports/What blogs focus on the latest news and trends in surfing__2023-03-19_18-01-42.csv  \n",
            "  inflating: datasets/Sports/What blogs focus on the latest news and trends in watersports__2023-03-19_18-03-34.csv  \n",
            "  inflating: datasets/Sports/What blogs offer analysis and commentary on basketball games and players__2023-03-19_17-57-40.csv  \n",
            "  inflating: datasets/Stock market/_latest news and trends in transportation and logistics stocks_2023-03-19_18-25-03.csv  \n",
            "  inflating: datasets/Stock market/analysis and commentary on cryptocurrency investments_2023-03-19_18-19-42.csv  \n",
            "  inflating: datasets/Stock market/analysis and commentary on the world of corporate governance and ethics in stock market investments_2023-03-19_18-25-48.csv  \n",
            "  inflating: datasets/Stock market/analysis and commentary on the world of day trading_2023-03-19_18-20-13.csv  \n",
            "  inflating: datasets/Stock market/analysis and commentary on the world of private equity investments_2023-03-19_18-21-34.csv  \n",
            "  inflating: datasets/Stock market/analysis and commentary on the world of short selling_2023-03-19_18-22-23.csv  \n",
            "  inflating: datasets/Stock market/analysis and commentary on the world of venture capital investments_2023-03-19_18-24-35.csv  \n",
            "  inflating: datasets/Stock market/analysis of stocks from a growth investing perspective_2023-03-19_18-23-44.csv  \n",
            "  inflating: datasets/Stock market/analysis of stocks from a value investing perspective_2023-03-19_18-21-08.csv  \n",
            "  inflating: datasets/Stock market/behavioral finance in stock market investments_2023-03-19_18-23-13.csv  \n",
            "  inflating: datasets/Stock market/fundamental analysis of stocks_2023-03-19_18-24-07.csv  \n",
            "  inflating: datasets/Stock market/global perspective on stock market trends_2023-03-19_18-21-26.csv  \n",
            "  inflating: datasets/Stock market/historical perspective on stock market crashes and rebounds_2023-03-19_18-20-03.csv  \n",
            "  inflating: datasets/Stock market/impact of climate change on stock market investments_2023-03-19_18-21-43.csv  \n",
            "  inflating: datasets/Stock market/impact of economic policies on stock market performance_2023-03-19_18-20-25.csv  \n",
            "  inflating: datasets/Stock market/impact of interest rates on stock market performance_2023-03-19_18-24-49.csv  \n",
            "  inflating: datasets/Stock market/impact of natural disasters on stock market performance_2023-03-19_18-26-45.csv  \n",
            "  inflating: datasets/Stock market/impact of social and political issues on stock market performance_2023-03-19_18-22-32.csv  \n",
            "  inflating: datasets/Stock market/insights into investing in emerging markets blog_2023-03-19_18-18-53.csv  \n",
            "  inflating: datasets/Stock market/insights into the world of commodity trading_2023-03-19_18-19-48.csv  \n",
            "  inflating: datasets/Stock market/insights into the world of futures trading_2023-03-19_18-25-37.csv  \n",
            "  inflating: datasets/Stock market/insights into the world of long-term investing_2023-03-19_18-26-38.csv  \n",
            "  inflating: datasets/Stock market/insights into the world of options trading_2023-03-19_18-22-04.csv  \n",
            "  inflating: datasets/Stock market/insights into the world of real estate investment trusts (REITs)_2023-03-19_18-20-59.csv  \n",
            "  inflating: datasets/Stock market/insights into the world of small-cap stocks_2023-03-19_18-23-25.csv  \n",
            "  inflating: datasets/Stock market/latest news and trends in biotech stocks_2023-03-19_18-22-41.csv  \n",
            "  inflating: datasets/Stock market/latest news and trends in dividend stocks_2023-03-19_18-21-16.csv  \n",
            "  inflating: datasets/Stock market/latest news and trends in emerging technology stocks_2023-03-19_18-23-54.csv  \n",
            "  inflating: datasets/Stock market/latest news and trends in financial technology (fintech) stocks_2023-03-19_18-26-10.csv  \n",
            "  inflating: datasets/Stock market/latest news and trends in healthcare and pharmaceutical stocks_2023-03-19_18-20-32.csv  \n",
            "  inflating: datasets/Stock market/latest news and trends in renewable energy stocks_2023-03-19_18-19-22.csv  \n",
            "  inflating: datasets/Stock market/latest news and trends in retail and e-commerce stocks_2023-03-19_18-21-57.csv  \n",
            "  inflating: datasets/Stock market/latest news and trends in sustainable investing_2023-03-19_18-19-56.csv  \n",
            "  inflating: datasets/Stock market/role of geopolitical events in stock market fluctuations_2023-03-19_18-19-33.csv  \n",
            "  inflating: datasets/Stock market/sentiment analysis in stock market investments_2023-03-19_18-26-23.csv  \n",
            "  inflating: datasets/Stock market/stock market_2023-03-19_18-17-40.csv  \n",
            "  inflating: datasets/Stock market/tech stocks blog_2023-03-19_18-18-39.csv  \n",
            "  inflating: datasets/Stock market/technical analysis of stock charts and trends_2023-03-19_18-19-09.csv  \n",
            "  inflating: datasets/Stock market/technical analysis of stock market trends_2023-03-19_18-25-55.csv  \n",
            "  inflating: datasets/Stock market/What are the best stock market blogs to follow for news and analysis__2023-03-19_18-18-02.csv  \n",
            "  inflating: datasets/Travel/adventure travel for seniors_2023-03-19_18-42-02.csv  \n",
            "  inflating: datasets/Travel/backpacking and budget travel_2023-03-19_18-42-20.csv  \n",
            "  inflating: datasets/Travel/best adventure travel_2023-03-19_18-35-38.csv  \n",
            "  inflating: datasets/Travel/best travel for LGBTQ+ travelers_2023-03-19_18-38-07.csv  \n",
            "  inflating: datasets/Travel/best travel plans for families with young children _2023-03-19_18-32-25.csv  \n",
            "  inflating: datasets/Travel/best travel podcasts for beginners_2023-03-19_18-30-43.csv  \n",
            "  inflating: datasets/Travel/budget travels_2023-03-19_18-41-05.csv  \n",
            "  inflating: datasets/Travel/budget-friendly destinations and tips_2023-03-19_18-31-18.csv  \n",
            "  inflating: datasets/Travel/cheap flights and accommodations tips_2023-03-19_18-35-20.csv  \n",
            "  inflating: datasets/Travel/cover adventure travel for women_2023-03-19_18-44-57.csv  \n",
            "  inflating: datasets/Travel/cultural exchange and language learning while traveling_2023-03-19_18-42-47.csv  \n",
            "  inflating: datasets/Travel/cultural immersion and learning while traveling_2023-03-19_18-35-57.csv  \n",
            "  inflating: datasets/Travel/ecotourism and wildlife conservation travel_2023-03-19_18-37-17.csv  \n",
            "  inflating: datasets/Travel/finding and booking ethical and sustainable tours and activities_2023-03-19_18-45-13.csv  \n",
            "  inflating: datasets/Travel/historical and cultural landmarks to learn while travel_2023-03-19_18-39-01.csv  \n",
            "  inflating: datasets/Travel/interviews with locals and off-the-beaten-path destinations_2023-03-19_18-31-32.csv  \n",
            "  inflating: datasets/Travel/luxury travel and high-end accommodations_2023-03-19_18-38-16.csv  \n",
            "  inflating: datasets/Travel/off-the-beaten-path destinations and hidden gems_2023-03-19_18-44-18.csv  \n",
            "  inflating: datasets/Travel/outdoor recreation and adventure travel_2023-03-19_18-37-40.csv  \n",
            "  inflating: datasets/Travel/road trips and van life_2023-03-19_18-41-26.csv  \n",
            "  inflating: datasets/Travel/sustainable and responsible travel practices_2023-03-19_18-36-25.csv  \n",
            "  inflating: datasets/Travel/tips for traveling with children or infants_2023-03-19_18-38-42.csv  \n",
            "  inflating: datasets/Travel/tips for traveling with pets_2023-03-19_18-37-01.csv  \n",
            "  inflating: datasets/Travel/travel essentials for female travelers_2023-03-19_18-41-41.csv  \n",
            "  inflating: datasets/Travel/travel photography and videography_2023-03-19_18-43-21.csv  \n",
            "  inflating: datasets/Travel/travel podcasts that focus on sustainable tourism_2023-03-19_18-30-55.csv  \n",
            "  inflating: datasets/Travel/travelers interested in sustainable transportation_2023-03-19_18-44-01.csv  \n",
            "  inflating: datasets/Travel/travelers interested in voluntourism and service trips_2023-03-19_18-43-03.csv  \n",
            "  inflating: datasets/Travel/traveling as a digital nomad or remote worker_2023-03-19_18-42-36.csv  \n",
            "  inflating: datasets/Travel/traveling during peak season or holidays_2023-03-19_18-44-09.csv  \n",
            "  inflating: datasets/Travel/traveling with a large group or tour_2023-03-19_18-42-54.csv  \n",
            "  inflating: datasets/Travel/traveling with disabilities or chronic illnesses_2023-03-19_18-41-51.csv  \n",
            "  inflating: datasets/Travel/unique and unusual accommodations, like treehouses or yurts while traveling_2023-03-19_18-43-54.csv  \n"
          ]
        }
      ],
      "source": [
        "!unzip Final_dataset.zip -d datasets/\n"
      ]
    },
    {
      "cell_type": "code",
      "execution_count": 2,
      "metadata": {
        "id": "KZfPHpApsn0F"
      },
      "outputs": [],
      "source": [
        "import os\n",
        "import pandas as pd\n",
        "\n",
        "# set the root directory where you want to start walking through folders\n",
        "root_directory = \"datasets/\"\n",
        "combined_df = pd.DataFrame()\n",
        "df_list = []\n",
        "i = -1\n",
        "categories = None\n",
        "# loop through all the directories and subdirectories in the root directory\n",
        "for root, dirs, files in os.walk(root_directory):\n",
        "    if not categories:\n",
        "        categories = dirs\n",
        "    # loop through all the files in each directory\n",
        "    for file in files:\n",
        "        # check if the file is a CSV file\n",
        "        if file.endswith(\".csv\"):\n",
        "            # construct the path to the CSV file\n",
        "            csv_file_path = os.path.join(root, file)\n",
        "            # read the CSV file into a pandas dataframe\n",
        "            df = pd.read_csv(csv_file_path)\n",
        "            try:\n",
        "                df['category'] = categories[i]\n",
        "            except:\n",
        "                print(i)\n",
        "            df_list.append(df)\n",
        "    i += 1\n",
        "    \n",
        "combined_df = pd.concat(df_list, ignore_index=True)\n"
      ]
    },
    {
      "cell_type": "code",
      "source": [
        "combined_df.shape"
      ],
      "metadata": {
        "colab": {
          "base_uri": "https://localhost:8080/"
        },
        "id": "WdDq9KKXTQK_",
        "outputId": "c6965fb1-2367-4eb5-8ca4-605c5d246f79"
      },
      "execution_count": 3,
      "outputs": [
        {
          "output_type": "execute_result",
          "data": {
            "text/plain": [
              "(3290, 5)"
            ]
          },
          "metadata": {},
          "execution_count": 3
        }
      ]
    },
    {
      "cell_type": "code",
      "source": [
        "combined_df.drop('text', axis=1, inplace=True)"
      ],
      "metadata": {
        "id": "qr535ndPTebs"
      },
      "execution_count": 4,
      "outputs": []
    },
    {
      "cell_type": "code",
      "source": [
        "combined_df.drop('index', axis=1, inplace=True)"
      ],
      "metadata": {
        "id": "xVOl2oX5WHaG"
      },
      "execution_count": 5,
      "outputs": []
    },
    {
      "cell_type": "code",
      "source": [
        "combined_df.shape"
      ],
      "metadata": {
        "colab": {
          "base_uri": "https://localhost:8080/"
        },
        "id": "5GdHF9XZTj_Q",
        "outputId": "83eea2f6-0f68-4275-9be0-9896719e05f5"
      },
      "execution_count": 6,
      "outputs": [
        {
          "output_type": "execute_result",
          "data": {
            "text/plain": [
              "(3290, 3)"
            ]
          },
          "metadata": {},
          "execution_count": 6
        }
      ]
    },
    {
      "cell_type": "code",
      "source": [
        "combined_df.head()"
      ],
      "metadata": {
        "colab": {
          "base_uri": "https://localhost:8080/",
          "height": 206
        },
        "id": "RSYGKJ5NTn83",
        "outputId": "eb1089ec-815a-447a-eba8-a72e3a6760d9"
      },
      "execution_count": 7,
      "outputs": [
        {
          "output_type": "execute_result",
          "data": {
            "text/plain": [
              "                                            title  \\\n",
              "0  The Ultimate Packing List for Female Travelers   \n",
              "1  The Ultimate Packing List for Female Travelers   \n",
              "2              24 Top Travel Essentials for Women   \n",
              "3              24 Top Travel Essentials for Women   \n",
              "4   Must Have Holiday Travel Essentials for Women   \n",
              "\n",
              "                                                 URL category  \n",
              "0  https://www.nomadicmatt.com/travel-blogs/solo-...   Travel  \n",
              "1  https://www.nomadicmatt.com/travel-blogs/solo-...   Travel  \n",
              "2  https://whatshotblog.com/travel-essentials-for...   Travel  \n",
              "3  https://whatshotblog.com/travel-essentials-for...   Travel  \n",
              "4  https://sundaymimosasblog.com/travel-essential...   Travel  "
            ],
            "text/html": [
              "\n",
              "  <div id=\"df-338c4b2d-7780-460e-a805-e6eae3caf4e9\">\n",
              "    <div class=\"colab-df-container\">\n",
              "      <div>\n",
              "<style scoped>\n",
              "    .dataframe tbody tr th:only-of-type {\n",
              "        vertical-align: middle;\n",
              "    }\n",
              "\n",
              "    .dataframe tbody tr th {\n",
              "        vertical-align: top;\n",
              "    }\n",
              "\n",
              "    .dataframe thead th {\n",
              "        text-align: right;\n",
              "    }\n",
              "</style>\n",
              "<table border=\"1\" class=\"dataframe\">\n",
              "  <thead>\n",
              "    <tr style=\"text-align: right;\">\n",
              "      <th></th>\n",
              "      <th>title</th>\n",
              "      <th>URL</th>\n",
              "      <th>category</th>\n",
              "    </tr>\n",
              "  </thead>\n",
              "  <tbody>\n",
              "    <tr>\n",
              "      <th>0</th>\n",
              "      <td>The Ultimate Packing List for Female Travelers</td>\n",
              "      <td>https://www.nomadicmatt.com/travel-blogs/solo-...</td>\n",
              "      <td>Travel</td>\n",
              "    </tr>\n",
              "    <tr>\n",
              "      <th>1</th>\n",
              "      <td>The Ultimate Packing List for Female Travelers</td>\n",
              "      <td>https://www.nomadicmatt.com/travel-blogs/solo-...</td>\n",
              "      <td>Travel</td>\n",
              "    </tr>\n",
              "    <tr>\n",
              "      <th>2</th>\n",
              "      <td>24 Top Travel Essentials for Women</td>\n",
              "      <td>https://whatshotblog.com/travel-essentials-for...</td>\n",
              "      <td>Travel</td>\n",
              "    </tr>\n",
              "    <tr>\n",
              "      <th>3</th>\n",
              "      <td>24 Top Travel Essentials for Women</td>\n",
              "      <td>https://whatshotblog.com/travel-essentials-for...</td>\n",
              "      <td>Travel</td>\n",
              "    </tr>\n",
              "    <tr>\n",
              "      <th>4</th>\n",
              "      <td>Must Have Holiday Travel Essentials for Women</td>\n",
              "      <td>https://sundaymimosasblog.com/travel-essential...</td>\n",
              "      <td>Travel</td>\n",
              "    </tr>\n",
              "  </tbody>\n",
              "</table>\n",
              "</div>\n",
              "      <button class=\"colab-df-convert\" onclick=\"convertToInteractive('df-338c4b2d-7780-460e-a805-e6eae3caf4e9')\"\n",
              "              title=\"Convert this dataframe to an interactive table.\"\n",
              "              style=\"display:none;\">\n",
              "        \n",
              "  <svg xmlns=\"http://www.w3.org/2000/svg\" height=\"24px\"viewBox=\"0 0 24 24\"\n",
              "       width=\"24px\">\n",
              "    <path d=\"M0 0h24v24H0V0z\" fill=\"none\"/>\n",
              "    <path d=\"M18.56 5.44l.94 2.06.94-2.06 2.06-.94-2.06-.94-.94-2.06-.94 2.06-2.06.94zm-11 1L8.5 8.5l.94-2.06 2.06-.94-2.06-.94L8.5 2.5l-.94 2.06-2.06.94zm10 10l.94 2.06.94-2.06 2.06-.94-2.06-.94-.94-2.06-.94 2.06-2.06.94z\"/><path d=\"M17.41 7.96l-1.37-1.37c-.4-.4-.92-.59-1.43-.59-.52 0-1.04.2-1.43.59L10.3 9.45l-7.72 7.72c-.78.78-.78 2.05 0 2.83L4 21.41c.39.39.9.59 1.41.59.51 0 1.02-.2 1.41-.59l7.78-7.78 2.81-2.81c.8-.78.8-2.07 0-2.86zM5.41 20L4 18.59l7.72-7.72 1.47 1.35L5.41 20z\"/>\n",
              "  </svg>\n",
              "      </button>\n",
              "      \n",
              "  <style>\n",
              "    .colab-df-container {\n",
              "      display:flex;\n",
              "      flex-wrap:wrap;\n",
              "      gap: 12px;\n",
              "    }\n",
              "\n",
              "    .colab-df-convert {\n",
              "      background-color: #E8F0FE;\n",
              "      border: none;\n",
              "      border-radius: 50%;\n",
              "      cursor: pointer;\n",
              "      display: none;\n",
              "      fill: #1967D2;\n",
              "      height: 32px;\n",
              "      padding: 0 0 0 0;\n",
              "      width: 32px;\n",
              "    }\n",
              "\n",
              "    .colab-df-convert:hover {\n",
              "      background-color: #E2EBFA;\n",
              "      box-shadow: 0px 1px 2px rgba(60, 64, 67, 0.3), 0px 1px 3px 1px rgba(60, 64, 67, 0.15);\n",
              "      fill: #174EA6;\n",
              "    }\n",
              "\n",
              "    [theme=dark] .colab-df-convert {\n",
              "      background-color: #3B4455;\n",
              "      fill: #D2E3FC;\n",
              "    }\n",
              "\n",
              "    [theme=dark] .colab-df-convert:hover {\n",
              "      background-color: #434B5C;\n",
              "      box-shadow: 0px 1px 3px 1px rgba(0, 0, 0, 0.15);\n",
              "      filter: drop-shadow(0px 1px 2px rgba(0, 0, 0, 0.3));\n",
              "      fill: #FFFFFF;\n",
              "    }\n",
              "  </style>\n",
              "\n",
              "      <script>\n",
              "        const buttonEl =\n",
              "          document.querySelector('#df-338c4b2d-7780-460e-a805-e6eae3caf4e9 button.colab-df-convert');\n",
              "        buttonEl.style.display =\n",
              "          google.colab.kernel.accessAllowed ? 'block' : 'none';\n",
              "\n",
              "        async function convertToInteractive(key) {\n",
              "          const element = document.querySelector('#df-338c4b2d-7780-460e-a805-e6eae3caf4e9');\n",
              "          const dataTable =\n",
              "            await google.colab.kernel.invokeFunction('convertToInteractive',\n",
              "                                                     [key], {});\n",
              "          if (!dataTable) return;\n",
              "\n",
              "          const docLinkHtml = 'Like what you see? Visit the ' +\n",
              "            '<a target=\"_blank\" href=https://colab.research.google.com/notebooks/data_table.ipynb>data table notebook</a>'\n",
              "            + ' to learn more about interactive tables.';\n",
              "          element.innerHTML = '';\n",
              "          dataTable['output_type'] = 'display_data';\n",
              "          await google.colab.output.renderOutput(dataTable, element);\n",
              "          const docLink = document.createElement('div');\n",
              "          docLink.innerHTML = docLinkHtml;\n",
              "          element.appendChild(docLink);\n",
              "        }\n",
              "      </script>\n",
              "    </div>\n",
              "  </div>\n",
              "  "
            ]
          },
          "metadata": {},
          "execution_count": 7
        }
      ]
    },
    {
      "cell_type": "code",
      "source": [
        "combined_df = pd.concat([combined_df, pd.read_csv('/content/av_data.csv'), pd.read_csv('/content/ref29_data.csv')])"
      ],
      "metadata": {
        "id": "rVcfrxzLTSyv"
      },
      "execution_count": 8,
      "outputs": []
    },
    {
      "cell_type": "code",
      "source": [
        "combined_df.drop('Unnamed: 0', axis=1, inplace=True)"
      ],
      "metadata": {
        "id": "HKrY9M_IWqgh"
      },
      "execution_count": 9,
      "outputs": []
    },
    {
      "cell_type": "code",
      "source": [
        "combined_df['category'] = combined_df['category'].str.replace('fashion', 'Fashion')"
      ],
      "metadata": {
        "id": "j2d9dU4JW7m3"
      },
      "execution_count": 10,
      "outputs": []
    },
    {
      "cell_type": "code",
      "execution_count": 11,
      "metadata": {
        "id": "SqQVj-TEyfmh"
      },
      "outputs": [],
      "source": [
        "combined_df.to_csv('final.csv', index=False)"
      ]
    },
    {
      "cell_type": "code",
      "execution_count": 12,
      "metadata": {
        "colab": {
          "base_uri": "https://localhost:8080/"
        },
        "id": "-lzRrn-RueP1",
        "outputId": "73e17b53-d417-412f-a949-e10b062716e2"
      },
      "outputs": [
        {
          "output_type": "stream",
          "name": "stdout",
          "text": [
            "                                                 title  \\\n",
            "289          All-Clad’s Big Factory Sale Ends Tonight!   \n",
            "290           The Pandemic Killed Meal Prepping. Good!   \n",
            "291  15 Cookbooks & Recipes To Slay New Year’s Reso...   \n",
            "292  Cozy Winter Recipes R29 Editors Are Actually M...   \n",
            "293  Your Election Night Menu Should Be All About C...   \n",
            "\n",
            "                                                   URL      category  \n",
            "289  https://www.refinery29.com/en-us/2021/01/10266...  cooking-tips  \n",
            "290  https://www.refinery29.com/en-us/2021/01/10248...  cooking-tips  \n",
            "291  https://www.refinery29.com/en-us/best-healthy-...  cooking-tips  \n",
            "292  https://www.refinery29.com/en-us/cozy-hoiday-w...  cooking-tips  \n",
            "293  https://www.refinery29.com/en-us/2020/10/10122...  cooking-tips  \n"
          ]
        },
        {
          "output_type": "execute_result",
          "data": {
            "text/plain": [
              "(5527, 3)"
            ]
          },
          "metadata": {},
          "execution_count": 12
        }
      ],
      "source": [
        "print(combined_df.tail())\n",
        "combined_df.shape"
      ]
    },
    {
      "cell_type": "code",
      "execution_count": 13,
      "metadata": {
        "colab": {
          "base_uri": "https://localhost:8080/"
        },
        "id": "GUReOa-cmAzp",
        "outputId": "1de2d7f3-2d90-40c6-ea72-9aec0208e8cd"
      },
      "outputs": [
        {
          "output_type": "execute_result",
          "data": {
            "text/plain": [
              "machine-learning      1517\n",
              "Fashion                781\n",
              "AI                     612\n",
              "computer-vision        426\n",
              "Political              333\n",
              "Sports                 268\n",
              "Travel                 259\n",
              "Crypto                 251\n",
              "Stock market           239\n",
              "Health & lifestyle     216\n",
              "Food                   192\n",
              "Music                  172\n",
              "beauty                  36\n",
              "entertainment           36\n",
              "work-and-money          33\n",
              "money-diary             33\n",
              "horoscope               33\n",
              "gg-good-game            30\n",
              "movies                  30\n",
              "cooking-tips            30\n",
              "Name: category, dtype: int64"
            ]
          },
          "metadata": {},
          "execution_count": 13
        }
      ],
      "source": [
        "combined_df['category'].value_counts()"
      ]
    },
    {
      "cell_type": "code",
      "source": [
        "combined_df[combined_df['category'] == 'machine-learning']"
      ],
      "metadata": {
        "colab": {
          "base_uri": "https://localhost:8080/",
          "height": 423
        },
        "id": "4vQztmGjYUk5",
        "outputId": "bff6c177-e4dc-43b1-e6ad-9f9697fe9077"
      },
      "execution_count": 14,
      "outputs": [
        {
          "output_type": "execute_result",
          "data": {
            "text/plain": [
              "                                                  title  \\\n",
              "426   OpenAI Open-Sourced Its Consistency Models for...   \n",
              "427   OpenAI Co-Founder & Chief Data Scientist On th...   \n",
              "428   GPT-4 Capable of Doing Autonomous Scientific R...   \n",
              "429   ML Model Predicts Insomnia With Considerable A...   \n",
              "430      How AI Is Revolutionizing Game Testing in 2023   \n",
              "...                                                 ...   \n",
              "1938  Diagnosing residual plots in linear regression...   \n",
              "1939            Getting your clustering right (Part II)   \n",
              "1940             Getting your clustering right (Part I)   \n",
              "1941  How to find inefficient branches when consider...   \n",
              "1942         Trick to enhance power of Regression model   \n",
              "\n",
              "                                                    URL          category  \n",
              "426   https://www.analyticsvidhya.com/blog/2023/04/o...  machine-learning  \n",
              "427   https://www.analyticsvidhya.com/blog/2023/04/o...  machine-learning  \n",
              "428   https://www.analyticsvidhya.com/blog/2023/04/g...  machine-learning  \n",
              "429   https://www.analyticsvidhya.com/blog/2023/04/m...  machine-learning  \n",
              "430   https://www.analyticsvidhya.com/blog/2023/04/h...  machine-learning  \n",
              "...                                                 ...               ...  \n",
              "1938  https://www.analyticsvidhya.com/blog/2013/12/r...  machine-learning  \n",
              "1939  https://www.analyticsvidhya.com/blog/2013/11/g...  machine-learning  \n",
              "1940  https://www.analyticsvidhya.com/blog/2013/11/g...  machine-learning  \n",
              "1941  https://www.analyticsvidhya.com/blog/2013/11/i...  machine-learning  \n",
              "1942  https://www.analyticsvidhya.com/blog/2013/10/t...  machine-learning  \n",
              "\n",
              "[1517 rows x 3 columns]"
            ],
            "text/html": [
              "\n",
              "  <div id=\"df-16665946-9b28-4b77-8da4-4fc0165f5aca\">\n",
              "    <div class=\"colab-df-container\">\n",
              "      <div>\n",
              "<style scoped>\n",
              "    .dataframe tbody tr th:only-of-type {\n",
              "        vertical-align: middle;\n",
              "    }\n",
              "\n",
              "    .dataframe tbody tr th {\n",
              "        vertical-align: top;\n",
              "    }\n",
              "\n",
              "    .dataframe thead th {\n",
              "        text-align: right;\n",
              "    }\n",
              "</style>\n",
              "<table border=\"1\" class=\"dataframe\">\n",
              "  <thead>\n",
              "    <tr style=\"text-align: right;\">\n",
              "      <th></th>\n",
              "      <th>title</th>\n",
              "      <th>URL</th>\n",
              "      <th>category</th>\n",
              "    </tr>\n",
              "  </thead>\n",
              "  <tbody>\n",
              "    <tr>\n",
              "      <th>426</th>\n",
              "      <td>OpenAI Open-Sourced Its Consistency Models for...</td>\n",
              "      <td>https://www.analyticsvidhya.com/blog/2023/04/o...</td>\n",
              "      <td>machine-learning</td>\n",
              "    </tr>\n",
              "    <tr>\n",
              "      <th>427</th>\n",
              "      <td>OpenAI Co-Founder &amp; Chief Data Scientist On th...</td>\n",
              "      <td>https://www.analyticsvidhya.com/blog/2023/04/o...</td>\n",
              "      <td>machine-learning</td>\n",
              "    </tr>\n",
              "    <tr>\n",
              "      <th>428</th>\n",
              "      <td>GPT-4 Capable of Doing Autonomous Scientific R...</td>\n",
              "      <td>https://www.analyticsvidhya.com/blog/2023/04/g...</td>\n",
              "      <td>machine-learning</td>\n",
              "    </tr>\n",
              "    <tr>\n",
              "      <th>429</th>\n",
              "      <td>ML Model Predicts Insomnia With Considerable A...</td>\n",
              "      <td>https://www.analyticsvidhya.com/blog/2023/04/m...</td>\n",
              "      <td>machine-learning</td>\n",
              "    </tr>\n",
              "    <tr>\n",
              "      <th>430</th>\n",
              "      <td>How AI Is Revolutionizing Game Testing in 2023</td>\n",
              "      <td>https://www.analyticsvidhya.com/blog/2023/04/h...</td>\n",
              "      <td>machine-learning</td>\n",
              "    </tr>\n",
              "    <tr>\n",
              "      <th>...</th>\n",
              "      <td>...</td>\n",
              "      <td>...</td>\n",
              "      <td>...</td>\n",
              "    </tr>\n",
              "    <tr>\n",
              "      <th>1938</th>\n",
              "      <td>Diagnosing residual plots in linear regression...</td>\n",
              "      <td>https://www.analyticsvidhya.com/blog/2013/12/r...</td>\n",
              "      <td>machine-learning</td>\n",
              "    </tr>\n",
              "    <tr>\n",
              "      <th>1939</th>\n",
              "      <td>Getting your clustering right (Part II)</td>\n",
              "      <td>https://www.analyticsvidhya.com/blog/2013/11/g...</td>\n",
              "      <td>machine-learning</td>\n",
              "    </tr>\n",
              "    <tr>\n",
              "      <th>1940</th>\n",
              "      <td>Getting your clustering right (Part I)</td>\n",
              "      <td>https://www.analyticsvidhya.com/blog/2013/11/g...</td>\n",
              "      <td>machine-learning</td>\n",
              "    </tr>\n",
              "    <tr>\n",
              "      <th>1941</th>\n",
              "      <td>How to find inefficient branches when consider...</td>\n",
              "      <td>https://www.analyticsvidhya.com/blog/2013/11/i...</td>\n",
              "      <td>machine-learning</td>\n",
              "    </tr>\n",
              "    <tr>\n",
              "      <th>1942</th>\n",
              "      <td>Trick to enhance power of Regression model</td>\n",
              "      <td>https://www.analyticsvidhya.com/blog/2013/10/t...</td>\n",
              "      <td>machine-learning</td>\n",
              "    </tr>\n",
              "  </tbody>\n",
              "</table>\n",
              "<p>1517 rows × 3 columns</p>\n",
              "</div>\n",
              "      <button class=\"colab-df-convert\" onclick=\"convertToInteractive('df-16665946-9b28-4b77-8da4-4fc0165f5aca')\"\n",
              "              title=\"Convert this dataframe to an interactive table.\"\n",
              "              style=\"display:none;\">\n",
              "        \n",
              "  <svg xmlns=\"http://www.w3.org/2000/svg\" height=\"24px\"viewBox=\"0 0 24 24\"\n",
              "       width=\"24px\">\n",
              "    <path d=\"M0 0h24v24H0V0z\" fill=\"none\"/>\n",
              "    <path d=\"M18.56 5.44l.94 2.06.94-2.06 2.06-.94-2.06-.94-.94-2.06-.94 2.06-2.06.94zm-11 1L8.5 8.5l.94-2.06 2.06-.94-2.06-.94L8.5 2.5l-.94 2.06-2.06.94zm10 10l.94 2.06.94-2.06 2.06-.94-2.06-.94-.94-2.06-.94 2.06-2.06.94z\"/><path d=\"M17.41 7.96l-1.37-1.37c-.4-.4-.92-.59-1.43-.59-.52 0-1.04.2-1.43.59L10.3 9.45l-7.72 7.72c-.78.78-.78 2.05 0 2.83L4 21.41c.39.39.9.59 1.41.59.51 0 1.02-.2 1.41-.59l7.78-7.78 2.81-2.81c.8-.78.8-2.07 0-2.86zM5.41 20L4 18.59l7.72-7.72 1.47 1.35L5.41 20z\"/>\n",
              "  </svg>\n",
              "      </button>\n",
              "      \n",
              "  <style>\n",
              "    .colab-df-container {\n",
              "      display:flex;\n",
              "      flex-wrap:wrap;\n",
              "      gap: 12px;\n",
              "    }\n",
              "\n",
              "    .colab-df-convert {\n",
              "      background-color: #E8F0FE;\n",
              "      border: none;\n",
              "      border-radius: 50%;\n",
              "      cursor: pointer;\n",
              "      display: none;\n",
              "      fill: #1967D2;\n",
              "      height: 32px;\n",
              "      padding: 0 0 0 0;\n",
              "      width: 32px;\n",
              "    }\n",
              "\n",
              "    .colab-df-convert:hover {\n",
              "      background-color: #E2EBFA;\n",
              "      box-shadow: 0px 1px 2px rgba(60, 64, 67, 0.3), 0px 1px 3px 1px rgba(60, 64, 67, 0.15);\n",
              "      fill: #174EA6;\n",
              "    }\n",
              "\n",
              "    [theme=dark] .colab-df-convert {\n",
              "      background-color: #3B4455;\n",
              "      fill: #D2E3FC;\n",
              "    }\n",
              "\n",
              "    [theme=dark] .colab-df-convert:hover {\n",
              "      background-color: #434B5C;\n",
              "      box-shadow: 0px 1px 3px 1px rgba(0, 0, 0, 0.15);\n",
              "      filter: drop-shadow(0px 1px 2px rgba(0, 0, 0, 0.3));\n",
              "      fill: #FFFFFF;\n",
              "    }\n",
              "  </style>\n",
              "\n",
              "      <script>\n",
              "        const buttonEl =\n",
              "          document.querySelector('#df-16665946-9b28-4b77-8da4-4fc0165f5aca button.colab-df-convert');\n",
              "        buttonEl.style.display =\n",
              "          google.colab.kernel.accessAllowed ? 'block' : 'none';\n",
              "\n",
              "        async function convertToInteractive(key) {\n",
              "          const element = document.querySelector('#df-16665946-9b28-4b77-8da4-4fc0165f5aca');\n",
              "          const dataTable =\n",
              "            await google.colab.kernel.invokeFunction('convertToInteractive',\n",
              "                                                     [key], {});\n",
              "          if (!dataTable) return;\n",
              "\n",
              "          const docLinkHtml = 'Like what you see? Visit the ' +\n",
              "            '<a target=\"_blank\" href=https://colab.research.google.com/notebooks/data_table.ipynb>data table notebook</a>'\n",
              "            + ' to learn more about interactive tables.';\n",
              "          element.innerHTML = '';\n",
              "          dataTable['output_type'] = 'display_data';\n",
              "          await google.colab.output.renderOutput(dataTable, element);\n",
              "          const docLink = document.createElement('div');\n",
              "          docLink.innerHTML = docLinkHtml;\n",
              "          element.appendChild(docLink);\n",
              "        }\n",
              "      </script>\n",
              "    </div>\n",
              "  </div>\n",
              "  "
            ]
          },
          "metadata": {},
          "execution_count": 14
        }
      ]
    },
    {
      "cell_type": "markdown",
      "metadata": {
        "id": "VGPUUbc9yQNe"
      },
      "source": [
        "Preprocessing:"
      ]
    },
    {
      "cell_type": "code",
      "execution_count": 15,
      "metadata": {
        "id": "4f36Zu2nyR6y"
      },
      "outputs": [],
      "source": [
        "df = combined_df"
      ]
    },
    {
      "cell_type": "code",
      "execution_count": 16,
      "metadata": {
        "colab": {
          "base_uri": "https://localhost:8080/"
        },
        "id": "S8GoZxYhyVe7",
        "outputId": "40670820-17e5-4ce7-ea21-354096e5b387"
      },
      "outputs": [
        {
          "output_type": "execute_result",
          "data": {
            "text/plain": [
              "(5527, 3)"
            ]
          },
          "metadata": {},
          "execution_count": 16
        }
      ],
      "source": [
        "df.shape"
      ]
    },
    {
      "cell_type": "code",
      "execution_count": 17,
      "metadata": {
        "colab": {
          "base_uri": "https://localhost:8080/",
          "height": 300
        },
        "id": "8mPuKNAD0L-4",
        "outputId": "97532a40-f5a0-4987-f006-e661aefaab91"
      },
      "outputs": [
        {
          "output_type": "execute_result",
          "data": {
            "text/plain": [
              "      title                                                URL      category\n",
              "388   Blogs  https://www.greenjeeva.com/blog/why-is-vegetar...          Food\n",
              "812   Blogs  https://blogs.sas.com/content/subconsciousmusi...            AI\n",
              "1125  Blogs        https://www.outdoors91.com/adventures/blogs        Sports\n",
              "1227  Blogs  https://blogs.ifas.ufl.edu/sarasotaco/2021/07/...        Sports\n",
              "1473  Blogs                  https://www.marketwatch.com/blogs  Stock market\n",
              "1502  Blogs      https://www.plslogistics.com/resource/blog-2/  Stock market\n",
              "2581  Blogs                           https://www.cfr.org/blog     Political\n",
              "2734  Blogs                           https://www.cfr.org/blog     Political"
            ],
            "text/html": [
              "\n",
              "  <div id=\"df-50c046d1-5167-434f-8351-1c9cdafd94a1\">\n",
              "    <div class=\"colab-df-container\">\n",
              "      <div>\n",
              "<style scoped>\n",
              "    .dataframe tbody tr th:only-of-type {\n",
              "        vertical-align: middle;\n",
              "    }\n",
              "\n",
              "    .dataframe tbody tr th {\n",
              "        vertical-align: top;\n",
              "    }\n",
              "\n",
              "    .dataframe thead th {\n",
              "        text-align: right;\n",
              "    }\n",
              "</style>\n",
              "<table border=\"1\" class=\"dataframe\">\n",
              "  <thead>\n",
              "    <tr style=\"text-align: right;\">\n",
              "      <th></th>\n",
              "      <th>title</th>\n",
              "      <th>URL</th>\n",
              "      <th>category</th>\n",
              "    </tr>\n",
              "  </thead>\n",
              "  <tbody>\n",
              "    <tr>\n",
              "      <th>388</th>\n",
              "      <td>Blogs</td>\n",
              "      <td>https://www.greenjeeva.com/blog/why-is-vegetar...</td>\n",
              "      <td>Food</td>\n",
              "    </tr>\n",
              "    <tr>\n",
              "      <th>812</th>\n",
              "      <td>Blogs</td>\n",
              "      <td>https://blogs.sas.com/content/subconsciousmusi...</td>\n",
              "      <td>AI</td>\n",
              "    </tr>\n",
              "    <tr>\n",
              "      <th>1125</th>\n",
              "      <td>Blogs</td>\n",
              "      <td>https://www.outdoors91.com/adventures/blogs</td>\n",
              "      <td>Sports</td>\n",
              "    </tr>\n",
              "    <tr>\n",
              "      <th>1227</th>\n",
              "      <td>Blogs</td>\n",
              "      <td>https://blogs.ifas.ufl.edu/sarasotaco/2021/07/...</td>\n",
              "      <td>Sports</td>\n",
              "    </tr>\n",
              "    <tr>\n",
              "      <th>1473</th>\n",
              "      <td>Blogs</td>\n",
              "      <td>https://www.marketwatch.com/blogs</td>\n",
              "      <td>Stock market</td>\n",
              "    </tr>\n",
              "    <tr>\n",
              "      <th>1502</th>\n",
              "      <td>Blogs</td>\n",
              "      <td>https://www.plslogistics.com/resource/blog-2/</td>\n",
              "      <td>Stock market</td>\n",
              "    </tr>\n",
              "    <tr>\n",
              "      <th>2581</th>\n",
              "      <td>Blogs</td>\n",
              "      <td>https://www.cfr.org/blog</td>\n",
              "      <td>Political</td>\n",
              "    </tr>\n",
              "    <tr>\n",
              "      <th>2734</th>\n",
              "      <td>Blogs</td>\n",
              "      <td>https://www.cfr.org/blog</td>\n",
              "      <td>Political</td>\n",
              "    </tr>\n",
              "  </tbody>\n",
              "</table>\n",
              "</div>\n",
              "      <button class=\"colab-df-convert\" onclick=\"convertToInteractive('df-50c046d1-5167-434f-8351-1c9cdafd94a1')\"\n",
              "              title=\"Convert this dataframe to an interactive table.\"\n",
              "              style=\"display:none;\">\n",
              "        \n",
              "  <svg xmlns=\"http://www.w3.org/2000/svg\" height=\"24px\"viewBox=\"0 0 24 24\"\n",
              "       width=\"24px\">\n",
              "    <path d=\"M0 0h24v24H0V0z\" fill=\"none\"/>\n",
              "    <path d=\"M18.56 5.44l.94 2.06.94-2.06 2.06-.94-2.06-.94-.94-2.06-.94 2.06-2.06.94zm-11 1L8.5 8.5l.94-2.06 2.06-.94-2.06-.94L8.5 2.5l-.94 2.06-2.06.94zm10 10l.94 2.06.94-2.06 2.06-.94-2.06-.94-.94-2.06-.94 2.06-2.06.94z\"/><path d=\"M17.41 7.96l-1.37-1.37c-.4-.4-.92-.59-1.43-.59-.52 0-1.04.2-1.43.59L10.3 9.45l-7.72 7.72c-.78.78-.78 2.05 0 2.83L4 21.41c.39.39.9.59 1.41.59.51 0 1.02-.2 1.41-.59l7.78-7.78 2.81-2.81c.8-.78.8-2.07 0-2.86zM5.41 20L4 18.59l7.72-7.72 1.47 1.35L5.41 20z\"/>\n",
              "  </svg>\n",
              "      </button>\n",
              "      \n",
              "  <style>\n",
              "    .colab-df-container {\n",
              "      display:flex;\n",
              "      flex-wrap:wrap;\n",
              "      gap: 12px;\n",
              "    }\n",
              "\n",
              "    .colab-df-convert {\n",
              "      background-color: #E8F0FE;\n",
              "      border: none;\n",
              "      border-radius: 50%;\n",
              "      cursor: pointer;\n",
              "      display: none;\n",
              "      fill: #1967D2;\n",
              "      height: 32px;\n",
              "      padding: 0 0 0 0;\n",
              "      width: 32px;\n",
              "    }\n",
              "\n",
              "    .colab-df-convert:hover {\n",
              "      background-color: #E2EBFA;\n",
              "      box-shadow: 0px 1px 2px rgba(60, 64, 67, 0.3), 0px 1px 3px 1px rgba(60, 64, 67, 0.15);\n",
              "      fill: #174EA6;\n",
              "    }\n",
              "\n",
              "    [theme=dark] .colab-df-convert {\n",
              "      background-color: #3B4455;\n",
              "      fill: #D2E3FC;\n",
              "    }\n",
              "\n",
              "    [theme=dark] .colab-df-convert:hover {\n",
              "      background-color: #434B5C;\n",
              "      box-shadow: 0px 1px 3px 1px rgba(0, 0, 0, 0.15);\n",
              "      filter: drop-shadow(0px 1px 2px rgba(0, 0, 0, 0.3));\n",
              "      fill: #FFFFFF;\n",
              "    }\n",
              "  </style>\n",
              "\n",
              "      <script>\n",
              "        const buttonEl =\n",
              "          document.querySelector('#df-50c046d1-5167-434f-8351-1c9cdafd94a1 button.colab-df-convert');\n",
              "        buttonEl.style.display =\n",
              "          google.colab.kernel.accessAllowed ? 'block' : 'none';\n",
              "\n",
              "        async function convertToInteractive(key) {\n",
              "          const element = document.querySelector('#df-50c046d1-5167-434f-8351-1c9cdafd94a1');\n",
              "          const dataTable =\n",
              "            await google.colab.kernel.invokeFunction('convertToInteractive',\n",
              "                                                     [key], {});\n",
              "          if (!dataTable) return;\n",
              "\n",
              "          const docLinkHtml = 'Like what you see? Visit the ' +\n",
              "            '<a target=\"_blank\" href=https://colab.research.google.com/notebooks/data_table.ipynb>data table notebook</a>'\n",
              "            + ' to learn more about interactive tables.';\n",
              "          element.innerHTML = '';\n",
              "          dataTable['output_type'] = 'display_data';\n",
              "          await google.colab.output.renderOutput(dataTable, element);\n",
              "          const docLink = document.createElement('div');\n",
              "          docLink.innerHTML = docLinkHtml;\n",
              "          element.appendChild(docLink);\n",
              "        }\n",
              "      </script>\n",
              "    </div>\n",
              "  </div>\n",
              "  "
            ]
          },
          "metadata": {},
          "execution_count": 17
        }
      ],
      "source": [
        "df[df['title'] == 'Blogs']"
      ]
    },
    {
      "cell_type": "markdown",
      "metadata": {
        "id": "4sjFJkWv0ZwS"
      },
      "source": [
        "Removing rows that contain only one-word title:"
      ]
    },
    {
      "cell_type": "code",
      "execution_count": 18,
      "metadata": {
        "id": "_lbnLB1kyYiQ"
      },
      "outputs": [],
      "source": [
        "df = df[df['title'].apply(lambda x: len(str(x).split()) > 1)]"
      ]
    },
    {
      "cell_type": "code",
      "execution_count": 19,
      "metadata": {
        "colab": {
          "base_uri": "https://localhost:8080/"
        },
        "id": "-yD2N6CM1LH_",
        "outputId": "ef098415-d842-4121-f0b3-a615b6c72f92"
      },
      "outputs": [
        {
          "output_type": "execute_result",
          "data": {
            "text/plain": [
              "(4957, 3)"
            ]
          },
          "metadata": {},
          "execution_count": 19
        }
      ],
      "source": [
        "df.shape"
      ]
    },
    {
      "cell_type": "code",
      "execution_count": 20,
      "metadata": {
        "id": "3WMaxzvh1-KK"
      },
      "outputs": [],
      "source": [
        "df = df[df['title'].apply(lambda x: x != '502 Bad Gateway')]"
      ]
    },
    {
      "cell_type": "code",
      "execution_count": 21,
      "metadata": {
        "colab": {
          "base_uri": "https://localhost:8080/"
        },
        "id": "N37BlEkc2HQv",
        "outputId": "e120a389-a7c4-47bc-dc46-0c70d6a3099a"
      },
      "outputs": [
        {
          "output_type": "execute_result",
          "data": {
            "text/plain": [
              "(4936, 3)"
            ]
          },
          "metadata": {},
          "execution_count": 21
        }
      ],
      "source": [
        "df.shape"
      ]
    },
    {
      "cell_type": "code",
      "execution_count": 22,
      "metadata": {
        "id": "FWAuO1u82Vs8"
      },
      "outputs": [],
      "source": [
        "df = df[df['title'].apply(lambda x: x.strip() != '')]"
      ]
    },
    {
      "cell_type": "code",
      "execution_count": 23,
      "metadata": {
        "colab": {
          "base_uri": "https://localhost:8080/"
        },
        "id": "fNqO9YM12aXI",
        "outputId": "16c41b6e-58f9-4064-ef7a-0a2aae287203"
      },
      "outputs": [
        {
          "output_type": "execute_result",
          "data": {
            "text/plain": [
              "(4936, 3)"
            ]
          },
          "metadata": {},
          "execution_count": 23
        }
      ],
      "source": [
        "df.shape"
      ]
    },
    {
      "cell_type": "code",
      "execution_count": 24,
      "metadata": {
        "id": "Jq-5y35l3cSh"
      },
      "outputs": [],
      "source": [
        "df = df.drop_duplicates(subset=['URL'])"
      ]
    },
    {
      "cell_type": "code",
      "execution_count": 25,
      "metadata": {
        "colab": {
          "base_uri": "https://localhost:8080/"
        },
        "id": "v3y4FpoH3fHx",
        "outputId": "4c365170-590d-4cce-fe40-938ef2463795"
      },
      "outputs": [
        {
          "output_type": "execute_result",
          "data": {
            "text/plain": [
              "(4321, 3)"
            ]
          },
          "metadata": {},
          "execution_count": 25
        }
      ],
      "source": [
        "df.shape"
      ]
    },
    {
      "cell_type": "code",
      "execution_count": 26,
      "metadata": {
        "id": "7AEev8Ze4w4y"
      },
      "outputs": [],
      "source": [
        "df = df[df['title'].apply(lambda x: 'blogs' not in x.strip().lower())]"
      ]
    },
    {
      "cell_type": "code",
      "execution_count": 27,
      "metadata": {
        "colab": {
          "base_uri": "https://localhost:8080/"
        },
        "id": "eZi7DvVu8rg6",
        "outputId": "dca4d8fb-584c-4ffd-d3db-f8fd1b10ea37"
      },
      "outputs": [
        {
          "output_type": "execute_result",
          "data": {
            "text/plain": [
              "(3889, 3)"
            ]
          },
          "metadata": {},
          "execution_count": 27
        }
      ],
      "source": [
        "df.shape"
      ]
    },
    {
      "cell_type": "code",
      "execution_count": null,
      "metadata": {
        "id": "QZUiXpzV9Qvw"
      },
      "outputs": [],
      "source": [
        "df = df[df['title'].apply(lambda x: x.strip() != '403 Forbidden')]\n"
      ]
    },
    {
      "cell_type": "code",
      "execution_count": 28,
      "metadata": {
        "colab": {
          "base_uri": "https://localhost:8080/"
        },
        "id": "tkBKWRdG9ZuM",
        "outputId": "d88fca32-e73a-4da5-eb47-62213bbcea64"
      },
      "outputs": [
        {
          "output_type": "execute_result",
          "data": {
            "text/plain": [
              "(3889, 3)"
            ]
          },
          "metadata": {},
          "execution_count": 28
        }
      ],
      "source": [
        "df.shape"
      ]
    },
    {
      "cell_type": "code",
      "execution_count": 29,
      "metadata": {
        "colab": {
          "base_uri": "https://localhost:8080/",
          "height": 49
        },
        "id": "5gJFoFV9-jsz",
        "outputId": "ffc65cc1-6fff-436b-f87f-8478221a82ab"
      },
      "outputs": [
        {
          "output_type": "execute_result",
          "data": {
            "text/plain": [
              "Empty DataFrame\n",
              "Columns: [title, URL, category]\n",
              "Index: []"
            ],
            "text/html": [
              "\n",
              "  <div id=\"df-e2c4cf13-e4a0-430a-9058-36556544f3cb\">\n",
              "    <div class=\"colab-df-container\">\n",
              "      <div>\n",
              "<style scoped>\n",
              "    .dataframe tbody tr th:only-of-type {\n",
              "        vertical-align: middle;\n",
              "    }\n",
              "\n",
              "    .dataframe tbody tr th {\n",
              "        vertical-align: top;\n",
              "    }\n",
              "\n",
              "    .dataframe thead th {\n",
              "        text-align: right;\n",
              "    }\n",
              "</style>\n",
              "<table border=\"1\" class=\"dataframe\">\n",
              "  <thead>\n",
              "    <tr style=\"text-align: right;\">\n",
              "      <th></th>\n",
              "      <th>title</th>\n",
              "      <th>URL</th>\n",
              "      <th>category</th>\n",
              "    </tr>\n",
              "  </thead>\n",
              "  <tbody>\n",
              "  </tbody>\n",
              "</table>\n",
              "</div>\n",
              "      <button class=\"colab-df-convert\" onclick=\"convertToInteractive('df-e2c4cf13-e4a0-430a-9058-36556544f3cb')\"\n",
              "              title=\"Convert this dataframe to an interactive table.\"\n",
              "              style=\"display:none;\">\n",
              "        \n",
              "  <svg xmlns=\"http://www.w3.org/2000/svg\" height=\"24px\"viewBox=\"0 0 24 24\"\n",
              "       width=\"24px\">\n",
              "    <path d=\"M0 0h24v24H0V0z\" fill=\"none\"/>\n",
              "    <path d=\"M18.56 5.44l.94 2.06.94-2.06 2.06-.94-2.06-.94-.94-2.06-.94 2.06-2.06.94zm-11 1L8.5 8.5l.94-2.06 2.06-.94-2.06-.94L8.5 2.5l-.94 2.06-2.06.94zm10 10l.94 2.06.94-2.06 2.06-.94-2.06-.94-.94-2.06-.94 2.06-2.06.94z\"/><path d=\"M17.41 7.96l-1.37-1.37c-.4-.4-.92-.59-1.43-.59-.52 0-1.04.2-1.43.59L10.3 9.45l-7.72 7.72c-.78.78-.78 2.05 0 2.83L4 21.41c.39.39.9.59 1.41.59.51 0 1.02-.2 1.41-.59l7.78-7.78 2.81-2.81c.8-.78.8-2.07 0-2.86zM5.41 20L4 18.59l7.72-7.72 1.47 1.35L5.41 20z\"/>\n",
              "  </svg>\n",
              "      </button>\n",
              "      \n",
              "  <style>\n",
              "    .colab-df-container {\n",
              "      display:flex;\n",
              "      flex-wrap:wrap;\n",
              "      gap: 12px;\n",
              "    }\n",
              "\n",
              "    .colab-df-convert {\n",
              "      background-color: #E8F0FE;\n",
              "      border: none;\n",
              "      border-radius: 50%;\n",
              "      cursor: pointer;\n",
              "      display: none;\n",
              "      fill: #1967D2;\n",
              "      height: 32px;\n",
              "      padding: 0 0 0 0;\n",
              "      width: 32px;\n",
              "    }\n",
              "\n",
              "    .colab-df-convert:hover {\n",
              "      background-color: #E2EBFA;\n",
              "      box-shadow: 0px 1px 2px rgba(60, 64, 67, 0.3), 0px 1px 3px 1px rgba(60, 64, 67, 0.15);\n",
              "      fill: #174EA6;\n",
              "    }\n",
              "\n",
              "    [theme=dark] .colab-df-convert {\n",
              "      background-color: #3B4455;\n",
              "      fill: #D2E3FC;\n",
              "    }\n",
              "\n",
              "    [theme=dark] .colab-df-convert:hover {\n",
              "      background-color: #434B5C;\n",
              "      box-shadow: 0px 1px 3px 1px rgba(0, 0, 0, 0.15);\n",
              "      filter: drop-shadow(0px 1px 2px rgba(0, 0, 0, 0.3));\n",
              "      fill: #FFFFFF;\n",
              "    }\n",
              "  </style>\n",
              "\n",
              "      <script>\n",
              "        const buttonEl =\n",
              "          document.querySelector('#df-e2c4cf13-e4a0-430a-9058-36556544f3cb button.colab-df-convert');\n",
              "        buttonEl.style.display =\n",
              "          google.colab.kernel.accessAllowed ? 'block' : 'none';\n",
              "\n",
              "        async function convertToInteractive(key) {\n",
              "          const element = document.querySelector('#df-e2c4cf13-e4a0-430a-9058-36556544f3cb');\n",
              "          const dataTable =\n",
              "            await google.colab.kernel.invokeFunction('convertToInteractive',\n",
              "                                                     [key], {});\n",
              "          if (!dataTable) return;\n",
              "\n",
              "          const docLinkHtml = 'Like what you see? Visit the ' +\n",
              "            '<a target=\"_blank\" href=https://colab.research.google.com/notebooks/data_table.ipynb>data table notebook</a>'\n",
              "            + ' to learn more about interactive tables.';\n",
              "          element.innerHTML = '';\n",
              "          dataTable['output_type'] = 'display_data';\n",
              "          await google.colab.output.renderOutput(dataTable, element);\n",
              "          const docLink = document.createElement('div');\n",
              "          docLink.innerHTML = docLinkHtml;\n",
              "          element.appendChild(docLink);\n",
              "        }\n",
              "      </script>\n",
              "    </div>\n",
              "  </div>\n",
              "  "
            ]
          },
          "metadata": {},
          "execution_count": 29
        }
      ],
      "source": [
        "df[df['title'] == '']"
      ]
    },
    {
      "cell_type": "code",
      "execution_count": 30,
      "metadata": {
        "id": "ACJJ89Gi96rm"
      },
      "outputs": [],
      "source": [
        "df = df.dropna(how='any')\n"
      ]
    },
    {
      "cell_type": "code",
      "execution_count": 31,
      "metadata": {
        "colab": {
          "base_uri": "https://localhost:8080/"
        },
        "id": "PRP30sVQ99nG",
        "outputId": "0e5984c7-6803-4840-c0a1-4cc2e4bc5287"
      },
      "outputs": [
        {
          "output_type": "execute_result",
          "data": {
            "text/plain": [
              "(3889, 3)"
            ]
          },
          "metadata": {},
          "execution_count": 31
        }
      ],
      "source": [
        "df.shape"
      ]
    },
    {
      "cell_type": "code",
      "execution_count": 32,
      "metadata": {
        "colab": {
          "base_uri": "https://localhost:8080/"
        },
        "id": "4tyC2yJ5nLYw",
        "outputId": "88c4ee93-05e9-4a3e-d0c1-7c315a6347c1"
      },
      "outputs": [
        {
          "output_type": "execute_result",
          "data": {
            "text/plain": [
              "machine-learning      1470\n",
              "AI                     461\n",
              "computer-vision        425\n",
              "Fashion                369\n",
              "Political              179\n",
              "Stock market           139\n",
              "Food                   135\n",
              "Travel                 114\n",
              "Sports                 103\n",
              "Crypto                  95\n",
              "Music                   88\n",
              "Health & lifestyle      79\n",
              "beauty                  36\n",
              "work-and-money          33\n",
              "horoscope               33\n",
              "entertainment           33\n",
              "cooking-tips            30\n",
              "gg-good-game            26\n",
              "movies                  26\n",
              "money-diary             15\n",
              "Name: category, dtype: int64"
            ]
          },
          "metadata": {},
          "execution_count": 32
        }
      ],
      "source": [
        "df['category'].value_counts()"
      ]
    },
    {
      "cell_type": "code",
      "source": [
        "df[df['category'] == 'machine-learning']"
      ],
      "metadata": {
        "colab": {
          "base_uri": "https://localhost:8080/",
          "height": 423
        },
        "id": "h6y7PABjX6Nc",
        "outputId": "835d1e10-6ad2-4aa9-eb6c-4ca25816b487"
      },
      "execution_count": 33,
      "outputs": [
        {
          "output_type": "execute_result",
          "data": {
            "text/plain": [
              "                                                  title  \\\n",
              "426   OpenAI Open-Sourced Its Consistency Models for...   \n",
              "427   OpenAI Co-Founder & Chief Data Scientist On th...   \n",
              "428   GPT-4 Capable of Doing Autonomous Scientific R...   \n",
              "429   ML Model Predicts Insomnia With Considerable A...   \n",
              "430      How AI Is Revolutionizing Game Testing in 2023   \n",
              "...                                                 ...   \n",
              "1938  Diagnosing residual plots in linear regression...   \n",
              "1939            Getting your clustering right (Part II)   \n",
              "1940             Getting your clustering right (Part I)   \n",
              "1941  How to find inefficient branches when consider...   \n",
              "1942         Trick to enhance power of Regression model   \n",
              "\n",
              "                                                    URL          category  \n",
              "426   https://www.analyticsvidhya.com/blog/2023/04/o...  machine-learning  \n",
              "427   https://www.analyticsvidhya.com/blog/2023/04/o...  machine-learning  \n",
              "428   https://www.analyticsvidhya.com/blog/2023/04/g...  machine-learning  \n",
              "429   https://www.analyticsvidhya.com/blog/2023/04/m...  machine-learning  \n",
              "430   https://www.analyticsvidhya.com/blog/2023/04/h...  machine-learning  \n",
              "...                                                 ...               ...  \n",
              "1938  https://www.analyticsvidhya.com/blog/2013/12/r...  machine-learning  \n",
              "1939  https://www.analyticsvidhya.com/blog/2013/11/g...  machine-learning  \n",
              "1940  https://www.analyticsvidhya.com/blog/2013/11/g...  machine-learning  \n",
              "1941  https://www.analyticsvidhya.com/blog/2013/11/i...  machine-learning  \n",
              "1942  https://www.analyticsvidhya.com/blog/2013/10/t...  machine-learning  \n",
              "\n",
              "[1470 rows x 3 columns]"
            ],
            "text/html": [
              "\n",
              "  <div id=\"df-d58a9e14-88be-47ca-b626-77dec04cdb2d\">\n",
              "    <div class=\"colab-df-container\">\n",
              "      <div>\n",
              "<style scoped>\n",
              "    .dataframe tbody tr th:only-of-type {\n",
              "        vertical-align: middle;\n",
              "    }\n",
              "\n",
              "    .dataframe tbody tr th {\n",
              "        vertical-align: top;\n",
              "    }\n",
              "\n",
              "    .dataframe thead th {\n",
              "        text-align: right;\n",
              "    }\n",
              "</style>\n",
              "<table border=\"1\" class=\"dataframe\">\n",
              "  <thead>\n",
              "    <tr style=\"text-align: right;\">\n",
              "      <th></th>\n",
              "      <th>title</th>\n",
              "      <th>URL</th>\n",
              "      <th>category</th>\n",
              "    </tr>\n",
              "  </thead>\n",
              "  <tbody>\n",
              "    <tr>\n",
              "      <th>426</th>\n",
              "      <td>OpenAI Open-Sourced Its Consistency Models for...</td>\n",
              "      <td>https://www.analyticsvidhya.com/blog/2023/04/o...</td>\n",
              "      <td>machine-learning</td>\n",
              "    </tr>\n",
              "    <tr>\n",
              "      <th>427</th>\n",
              "      <td>OpenAI Co-Founder &amp; Chief Data Scientist On th...</td>\n",
              "      <td>https://www.analyticsvidhya.com/blog/2023/04/o...</td>\n",
              "      <td>machine-learning</td>\n",
              "    </tr>\n",
              "    <tr>\n",
              "      <th>428</th>\n",
              "      <td>GPT-4 Capable of Doing Autonomous Scientific R...</td>\n",
              "      <td>https://www.analyticsvidhya.com/blog/2023/04/g...</td>\n",
              "      <td>machine-learning</td>\n",
              "    </tr>\n",
              "    <tr>\n",
              "      <th>429</th>\n",
              "      <td>ML Model Predicts Insomnia With Considerable A...</td>\n",
              "      <td>https://www.analyticsvidhya.com/blog/2023/04/m...</td>\n",
              "      <td>machine-learning</td>\n",
              "    </tr>\n",
              "    <tr>\n",
              "      <th>430</th>\n",
              "      <td>How AI Is Revolutionizing Game Testing in 2023</td>\n",
              "      <td>https://www.analyticsvidhya.com/blog/2023/04/h...</td>\n",
              "      <td>machine-learning</td>\n",
              "    </tr>\n",
              "    <tr>\n",
              "      <th>...</th>\n",
              "      <td>...</td>\n",
              "      <td>...</td>\n",
              "      <td>...</td>\n",
              "    </tr>\n",
              "    <tr>\n",
              "      <th>1938</th>\n",
              "      <td>Diagnosing residual plots in linear regression...</td>\n",
              "      <td>https://www.analyticsvidhya.com/blog/2013/12/r...</td>\n",
              "      <td>machine-learning</td>\n",
              "    </tr>\n",
              "    <tr>\n",
              "      <th>1939</th>\n",
              "      <td>Getting your clustering right (Part II)</td>\n",
              "      <td>https://www.analyticsvidhya.com/blog/2013/11/g...</td>\n",
              "      <td>machine-learning</td>\n",
              "    </tr>\n",
              "    <tr>\n",
              "      <th>1940</th>\n",
              "      <td>Getting your clustering right (Part I)</td>\n",
              "      <td>https://www.analyticsvidhya.com/blog/2013/11/g...</td>\n",
              "      <td>machine-learning</td>\n",
              "    </tr>\n",
              "    <tr>\n",
              "      <th>1941</th>\n",
              "      <td>How to find inefficient branches when consider...</td>\n",
              "      <td>https://www.analyticsvidhya.com/blog/2013/11/i...</td>\n",
              "      <td>machine-learning</td>\n",
              "    </tr>\n",
              "    <tr>\n",
              "      <th>1942</th>\n",
              "      <td>Trick to enhance power of Regression model</td>\n",
              "      <td>https://www.analyticsvidhya.com/blog/2013/10/t...</td>\n",
              "      <td>machine-learning</td>\n",
              "    </tr>\n",
              "  </tbody>\n",
              "</table>\n",
              "<p>1470 rows × 3 columns</p>\n",
              "</div>\n",
              "      <button class=\"colab-df-convert\" onclick=\"convertToInteractive('df-d58a9e14-88be-47ca-b626-77dec04cdb2d')\"\n",
              "              title=\"Convert this dataframe to an interactive table.\"\n",
              "              style=\"display:none;\">\n",
              "        \n",
              "  <svg xmlns=\"http://www.w3.org/2000/svg\" height=\"24px\"viewBox=\"0 0 24 24\"\n",
              "       width=\"24px\">\n",
              "    <path d=\"M0 0h24v24H0V0z\" fill=\"none\"/>\n",
              "    <path d=\"M18.56 5.44l.94 2.06.94-2.06 2.06-.94-2.06-.94-.94-2.06-.94 2.06-2.06.94zm-11 1L8.5 8.5l.94-2.06 2.06-.94-2.06-.94L8.5 2.5l-.94 2.06-2.06.94zm10 10l.94 2.06.94-2.06 2.06-.94-2.06-.94-.94-2.06-.94 2.06-2.06.94z\"/><path d=\"M17.41 7.96l-1.37-1.37c-.4-.4-.92-.59-1.43-.59-.52 0-1.04.2-1.43.59L10.3 9.45l-7.72 7.72c-.78.78-.78 2.05 0 2.83L4 21.41c.39.39.9.59 1.41.59.51 0 1.02-.2 1.41-.59l7.78-7.78 2.81-2.81c.8-.78.8-2.07 0-2.86zM5.41 20L4 18.59l7.72-7.72 1.47 1.35L5.41 20z\"/>\n",
              "  </svg>\n",
              "      </button>\n",
              "      \n",
              "  <style>\n",
              "    .colab-df-container {\n",
              "      display:flex;\n",
              "      flex-wrap:wrap;\n",
              "      gap: 12px;\n",
              "    }\n",
              "\n",
              "    .colab-df-convert {\n",
              "      background-color: #E8F0FE;\n",
              "      border: none;\n",
              "      border-radius: 50%;\n",
              "      cursor: pointer;\n",
              "      display: none;\n",
              "      fill: #1967D2;\n",
              "      height: 32px;\n",
              "      padding: 0 0 0 0;\n",
              "      width: 32px;\n",
              "    }\n",
              "\n",
              "    .colab-df-convert:hover {\n",
              "      background-color: #E2EBFA;\n",
              "      box-shadow: 0px 1px 2px rgba(60, 64, 67, 0.3), 0px 1px 3px 1px rgba(60, 64, 67, 0.15);\n",
              "      fill: #174EA6;\n",
              "    }\n",
              "\n",
              "    [theme=dark] .colab-df-convert {\n",
              "      background-color: #3B4455;\n",
              "      fill: #D2E3FC;\n",
              "    }\n",
              "\n",
              "    [theme=dark] .colab-df-convert:hover {\n",
              "      background-color: #434B5C;\n",
              "      box-shadow: 0px 1px 3px 1px rgba(0, 0, 0, 0.15);\n",
              "      filter: drop-shadow(0px 1px 2px rgba(0, 0, 0, 0.3));\n",
              "      fill: #FFFFFF;\n",
              "    }\n",
              "  </style>\n",
              "\n",
              "      <script>\n",
              "        const buttonEl =\n",
              "          document.querySelector('#df-d58a9e14-88be-47ca-b626-77dec04cdb2d button.colab-df-convert');\n",
              "        buttonEl.style.display =\n",
              "          google.colab.kernel.accessAllowed ? 'block' : 'none';\n",
              "\n",
              "        async function convertToInteractive(key) {\n",
              "          const element = document.querySelector('#df-d58a9e14-88be-47ca-b626-77dec04cdb2d');\n",
              "          const dataTable =\n",
              "            await google.colab.kernel.invokeFunction('convertToInteractive',\n",
              "                                                     [key], {});\n",
              "          if (!dataTable) return;\n",
              "\n",
              "          const docLinkHtml = 'Like what you see? Visit the ' +\n",
              "            '<a target=\"_blank\" href=https://colab.research.google.com/notebooks/data_table.ipynb>data table notebook</a>'\n",
              "            + ' to learn more about interactive tables.';\n",
              "          element.innerHTML = '';\n",
              "          dataTable['output_type'] = 'display_data';\n",
              "          await google.colab.output.renderOutput(dataTable, element);\n",
              "          const docLink = document.createElement('div');\n",
              "          docLink.innerHTML = docLinkHtml;\n",
              "          element.appendChild(docLink);\n",
              "        }\n",
              "      </script>\n",
              "    </div>\n",
              "  </div>\n",
              "  "
            ]
          },
          "metadata": {},
          "execution_count": 33
        }
      ]
    },
    {
      "cell_type": "code",
      "execution_count": null,
      "metadata": {
        "id": "4IzSHQnD3VZ-"
      },
      "outputs": [],
      "source": [
        "# import pandas as pd\n",
        "\n",
        "# # create sample dataframe with duplicate rows\n",
        "# df1 = pd.DataFrame({\n",
        "#     'col1': ['value 1', 'value 2', 'value 3', 'value 2', 'value 1', 'value 4', 'value 6'],\n",
        "#     'col2': [1, 2, 3, 4, 5, 5, 5]\n",
        "# })\n",
        "\n",
        "# # print original dataframe\n",
        "# print(\"Original DataFrame:\")\n",
        "# print(df1)\n",
        "\n",
        "# # drop duplicate rows based on col1\n",
        "# df1 = df1.drop_duplicates(subset=['col1'])\n",
        "# df1 = df1.drop_duplicates(subset=['col2'])\n",
        "\n",
        "# # print filtered dataframe\n",
        "# print(\"\\nFiltered DataFrame:\")\n",
        "# print(df1)\n"
      ]
    },
    {
      "cell_type": "code",
      "execution_count": null,
      "metadata": {
        "id": "_1RP5V5L-38-"
      },
      "outputs": [],
      "source": [
        "# import pandas as pd\n",
        "\n",
        "# # create sample dataframe with empty values\n",
        "# df = pd.DataFrame({\n",
        "#     'col1': ['value 1', 'value 2', 'value 3', ''],\n",
        "#     'col2': [1, 2, 3, 4],\n",
        "#     'col3': ['', 'value 4', 'value 5', 'value 6']\n",
        "# })\n",
        "\n",
        "# # print original dataframe\n",
        "# print(\"Original DataFrame:\")\n",
        "# print(df)\n",
        "\n",
        "# # select rows with empty values in col1\n",
        "# empty_col1 = df[df['col1'] == '']\n",
        "\n",
        "# # print selected rows\n",
        "# print(\"\\nRows with empty values in col1:\")\n",
        "# print(empty_col1)\n"
      ]
    },
    {
      "cell_type": "markdown",
      "source": [
        "Storing the cleaned dataset:"
      ],
      "metadata": {
        "id": "agw0h2WCYhhW"
      }
    },
    {
      "cell_type": "code",
      "source": [
        "df.to_csv('cleaned_data.csv')"
      ],
      "metadata": {
        "id": "UHb118ldX_7p"
      },
      "execution_count": 78,
      "outputs": []
    },
    {
      "cell_type": "code",
      "execution_count": 34,
      "metadata": {
        "id": "fCe1z5DLgMJt"
      },
      "outputs": [],
      "source": [
        "# Split your data into training and testing sets\n",
        "from sklearn.model_selection import train_test_split\n",
        "X_train, X_test, y_train, y_test = train_test_split(df['title'], df['category'], test_size=0.3, random_state=42)\n"
      ]
    },
    {
      "cell_type": "code",
      "source": [
        "from sklearn.linear_model import LogisticRegression # REF (LogisticRegression Solvers): https://stackoverflow.com/questions/38640109/logistic-regression-python-solvers-definitions\n",
        "from sklearn.tree import DecisionTreeClassifier\n",
        "from sklearn import svm, tree, metrics\n",
        "from sklearn.ensemble import RandomForestClassifier, ExtraTreesClassifier, GradientBoostingClassifier, VotingClassifier\n",
        "from sklearn.pipeline import Pipeline\n",
        "from sklearn.naive_bayes import MultinomialNB\n",
        "'''\n",
        "lr_C = LogisticRegression(max_iter = 1400)\n",
        "rf_C = RandomForestClassifier()\n",
        "# LinearSVC(random_state = 42)\n",
        "svm_C = svm.SVC(probability=True, random_state = 42)\n",
        "dt_C = tree.DecisionTreeClassifier(criterion=\"entropy\", max_depth =42)\n",
        "et_C = ExtraTreesClassifier()\n",
        "'''\n",
        "\n",
        "lr_C = LogisticRegression(class_weight='balanced',random_state = 0, max_iter = 1400)\n",
        "rf_C = RandomForestClassifier(class_weight='balanced',\n",
        "        criterion='entropy',\n",
        "        max_depth=22,\n",
        "        min_samples_split=4,\n",
        "        n_estimators=250,\n",
        "        random_state=56)\n",
        "# gb_C = GradientBoostingClassifier(n_estimators=10, learning_rate=1.0,\n",
        "#      max_depth=22, random_state=56)\n",
        "# LinearSVC(random_state = 42)\n",
        "svm_C = svm.SVC(probability=True, random_state = 42)\n",
        "dt_C = tree.DecisionTreeClassifier(criterion=\"entropy\", max_depth =22, class_weight='balanced', random_state = 42)\n",
        "et_C = ExtraTreesClassifier(criterion=\"entropy\", max_depth =22, class_weight='balanced')\n",
        "mnb_C = MultinomialNB()\n",
        "\n",
        "classifiers = [('LogisticRegression', lr_C), \n",
        "               ('RandomForestClassifier', rf_C), \n",
        "               ('SVC', svm_C), \n",
        "               ('DecisionTreeClassifier',dt_C),\n",
        "               ('ExtraTreesClassifier', et_C), \n",
        "               ('MultinomialNB', mnb_C)]\n",
        "\n",
        "voting_clf = VotingClassifier(\n",
        "    estimators=classifiers,\n",
        "    voting='soft')"
      ],
      "metadata": {
        "id": "aj2ofOUqJuHc"
      },
      "execution_count": 48,
      "outputs": []
    },
    {
      "cell_type": "code",
      "source": [
        "from sklearn.feature_extraction.text import TfidfVectorizer\n",
        "\n",
        "final_pipeline = Pipeline([(\"NLP\", TfidfVectorizer(stop_words='english',analyzer='word')),\n",
        "                           ('classifier', voting_clf)])"
      ],
      "metadata": {
        "id": "0PmXCC4vJxWb"
      },
      "execution_count": 49,
      "outputs": []
    },
    {
      "cell_type": "code",
      "source": [
        "final_pipeline.fit(X_train, y_train)"
      ],
      "metadata": {
        "id": "2UUpRZ4cJ2LG",
        "colab": {
          "base_uri": "https://localhost:8080/",
          "height": 182
        },
        "outputId": "b8c4a9a0-47ed-4494-fbdc-b2f290a7d0e2"
      },
      "execution_count": 50,
      "outputs": [
        {
          "output_type": "execute_result",
          "data": {
            "text/plain": [
              "Pipeline(steps=[('NLP', TfidfVectorizer(stop_words='english')),\n",
              "                ('classifier',\n",
              "                 VotingClassifier(estimators=[('LogisticRegression',\n",
              "                                               LogisticRegression(class_weight='balanced',\n",
              "                                                                  max_iter=1400,\n",
              "                                                                  random_state=0)),\n",
              "                                              ('RandomForestClassifier',\n",
              "                                               RandomForestClassifier(class_weight='balanced',\n",
              "                                                                      criterion='entropy',\n",
              "                                                                      max_depth=22,\n",
              "                                                                      min_samples_split=4,\n",
              "                                                                      n_estimators=250,\n",
              "                                                                      random_state=56)),\n",
              "                                              ('SVC',\n",
              "                                               SVC(probability=True,\n",
              "                                                   random_state=42)),\n",
              "                                              ('DecisionTreeClassifier',\n",
              "                                               DecisionTreeClassifier(class_weight='balanced',\n",
              "                                                                      criterion='entropy',\n",
              "                                                                      max_depth=22,\n",
              "                                                                      random_state=42)),\n",
              "                                              ('ExtraTreesClassifier',\n",
              "                                               ExtraTreesClassifier(class_weight='balanced',\n",
              "                                                                    criterion='entropy',\n",
              "                                                                    max_depth=22)),\n",
              "                                              ('MultinomialNB',\n",
              "                                               MultinomialNB())],\n",
              "                                  voting='soft'))])"
            ],
            "text/html": [
              "<style>#sk-container-id-3 {color: black;background-color: white;}#sk-container-id-3 pre{padding: 0;}#sk-container-id-3 div.sk-toggleable {background-color: white;}#sk-container-id-3 label.sk-toggleable__label {cursor: pointer;display: block;width: 100%;margin-bottom: 0;padding: 0.3em;box-sizing: border-box;text-align: center;}#sk-container-id-3 label.sk-toggleable__label-arrow:before {content: \"▸\";float: left;margin-right: 0.25em;color: #696969;}#sk-container-id-3 label.sk-toggleable__label-arrow:hover:before {color: black;}#sk-container-id-3 div.sk-estimator:hover label.sk-toggleable__label-arrow:before {color: black;}#sk-container-id-3 div.sk-toggleable__content {max-height: 0;max-width: 0;overflow: hidden;text-align: left;background-color: #f0f8ff;}#sk-container-id-3 div.sk-toggleable__content pre {margin: 0.2em;color: black;border-radius: 0.25em;background-color: #f0f8ff;}#sk-container-id-3 input.sk-toggleable__control:checked~div.sk-toggleable__content {max-height: 200px;max-width: 100%;overflow: auto;}#sk-container-id-3 input.sk-toggleable__control:checked~label.sk-toggleable__label-arrow:before {content: \"▾\";}#sk-container-id-3 div.sk-estimator input.sk-toggleable__control:checked~label.sk-toggleable__label {background-color: #d4ebff;}#sk-container-id-3 div.sk-label input.sk-toggleable__control:checked~label.sk-toggleable__label {background-color: #d4ebff;}#sk-container-id-3 input.sk-hidden--visually {border: 0;clip: rect(1px 1px 1px 1px);clip: rect(1px, 1px, 1px, 1px);height: 1px;margin: -1px;overflow: hidden;padding: 0;position: absolute;width: 1px;}#sk-container-id-3 div.sk-estimator {font-family: monospace;background-color: #f0f8ff;border: 1px dotted black;border-radius: 0.25em;box-sizing: border-box;margin-bottom: 0.5em;}#sk-container-id-3 div.sk-estimator:hover {background-color: #d4ebff;}#sk-container-id-3 div.sk-parallel-item::after {content: \"\";width: 100%;border-bottom: 1px solid gray;flex-grow: 1;}#sk-container-id-3 div.sk-label:hover label.sk-toggleable__label {background-color: #d4ebff;}#sk-container-id-3 div.sk-serial::before {content: \"\";position: absolute;border-left: 1px solid gray;box-sizing: border-box;top: 0;bottom: 0;left: 50%;z-index: 0;}#sk-container-id-3 div.sk-serial {display: flex;flex-direction: column;align-items: center;background-color: white;padding-right: 0.2em;padding-left: 0.2em;position: relative;}#sk-container-id-3 div.sk-item {position: relative;z-index: 1;}#sk-container-id-3 div.sk-parallel {display: flex;align-items: stretch;justify-content: center;background-color: white;position: relative;}#sk-container-id-3 div.sk-item::before, #sk-container-id-3 div.sk-parallel-item::before {content: \"\";position: absolute;border-left: 1px solid gray;box-sizing: border-box;top: 0;bottom: 0;left: 50%;z-index: -1;}#sk-container-id-3 div.sk-parallel-item {display: flex;flex-direction: column;z-index: 1;position: relative;background-color: white;}#sk-container-id-3 div.sk-parallel-item:first-child::after {align-self: flex-end;width: 50%;}#sk-container-id-3 div.sk-parallel-item:last-child::after {align-self: flex-start;width: 50%;}#sk-container-id-3 div.sk-parallel-item:only-child::after {width: 0;}#sk-container-id-3 div.sk-dashed-wrapped {border: 1px dashed gray;margin: 0 0.4em 0.5em 0.4em;box-sizing: border-box;padding-bottom: 0.4em;background-color: white;}#sk-container-id-3 div.sk-label label {font-family: monospace;font-weight: bold;display: inline-block;line-height: 1.2em;}#sk-container-id-3 div.sk-label-container {text-align: center;}#sk-container-id-3 div.sk-container {/* jupyter's `normalize.less` sets `[hidden] { display: none; }` but bootstrap.min.css set `[hidden] { display: none !important; }` so we also need the `!important` here to be able to override the default hidden behavior on the sphinx rendered scikit-learn.org. See: https://github.com/scikit-learn/scikit-learn/issues/21755 */display: inline-block !important;position: relative;}#sk-container-id-3 div.sk-text-repr-fallback {display: none;}</style><div id=\"sk-container-id-3\" class=\"sk-top-container\"><div class=\"sk-text-repr-fallback\"><pre>Pipeline(steps=[(&#x27;NLP&#x27;, TfidfVectorizer(stop_words=&#x27;english&#x27;)),\n",
              "                (&#x27;classifier&#x27;,\n",
              "                 VotingClassifier(estimators=[(&#x27;LogisticRegression&#x27;,\n",
              "                                               LogisticRegression(class_weight=&#x27;balanced&#x27;,\n",
              "                                                                  max_iter=1400,\n",
              "                                                                  random_state=0)),\n",
              "                                              (&#x27;RandomForestClassifier&#x27;,\n",
              "                                               RandomForestClassifier(class_weight=&#x27;balanced&#x27;,\n",
              "                                                                      criterion=&#x27;entropy&#x27;,\n",
              "                                                                      max_depth=22,\n",
              "                                                                      min_samples_split=4,\n",
              "                                                                      n_estimators=250,\n",
              "                                                                      random_state=56)),\n",
              "                                              (&#x27;SVC&#x27;,\n",
              "                                               SVC(probability=True,\n",
              "                                                   random_state=42)),\n",
              "                                              (&#x27;DecisionTreeClassifier&#x27;,\n",
              "                                               DecisionTreeClassifier(class_weight=&#x27;balanced&#x27;,\n",
              "                                                                      criterion=&#x27;entropy&#x27;,\n",
              "                                                                      max_depth=22,\n",
              "                                                                      random_state=42)),\n",
              "                                              (&#x27;ExtraTreesClassifier&#x27;,\n",
              "                                               ExtraTreesClassifier(class_weight=&#x27;balanced&#x27;,\n",
              "                                                                    criterion=&#x27;entropy&#x27;,\n",
              "                                                                    max_depth=22)),\n",
              "                                              (&#x27;MultinomialNB&#x27;,\n",
              "                                               MultinomialNB())],\n",
              "                                  voting=&#x27;soft&#x27;))])</pre><b>In a Jupyter environment, please rerun this cell to show the HTML representation or trust the notebook. <br />On GitHub, the HTML representation is unable to render, please try loading this page with nbviewer.org.</b></div><div class=\"sk-container\" hidden><div class=\"sk-item sk-dashed-wrapped\"><div class=\"sk-label-container\"><div class=\"sk-label sk-toggleable\"><input class=\"sk-toggleable__control sk-hidden--visually\" id=\"sk-estimator-id-19\" type=\"checkbox\" ><label for=\"sk-estimator-id-19\" class=\"sk-toggleable__label sk-toggleable__label-arrow\">Pipeline</label><div class=\"sk-toggleable__content\"><pre>Pipeline(steps=[(&#x27;NLP&#x27;, TfidfVectorizer(stop_words=&#x27;english&#x27;)),\n",
              "                (&#x27;classifier&#x27;,\n",
              "                 VotingClassifier(estimators=[(&#x27;LogisticRegression&#x27;,\n",
              "                                               LogisticRegression(class_weight=&#x27;balanced&#x27;,\n",
              "                                                                  max_iter=1400,\n",
              "                                                                  random_state=0)),\n",
              "                                              (&#x27;RandomForestClassifier&#x27;,\n",
              "                                               RandomForestClassifier(class_weight=&#x27;balanced&#x27;,\n",
              "                                                                      criterion=&#x27;entropy&#x27;,\n",
              "                                                                      max_depth=22,\n",
              "                                                                      min_samples_split=4,\n",
              "                                                                      n_estimators=250,\n",
              "                                                                      random_state=56)),\n",
              "                                              (&#x27;SVC&#x27;,\n",
              "                                               SVC(probability=True,\n",
              "                                                   random_state=42)),\n",
              "                                              (&#x27;DecisionTreeClassifier&#x27;,\n",
              "                                               DecisionTreeClassifier(class_weight=&#x27;balanced&#x27;,\n",
              "                                                                      criterion=&#x27;entropy&#x27;,\n",
              "                                                                      max_depth=22,\n",
              "                                                                      random_state=42)),\n",
              "                                              (&#x27;ExtraTreesClassifier&#x27;,\n",
              "                                               ExtraTreesClassifier(class_weight=&#x27;balanced&#x27;,\n",
              "                                                                    criterion=&#x27;entropy&#x27;,\n",
              "                                                                    max_depth=22)),\n",
              "                                              (&#x27;MultinomialNB&#x27;,\n",
              "                                               MultinomialNB())],\n",
              "                                  voting=&#x27;soft&#x27;))])</pre></div></div></div><div class=\"sk-serial\"><div class=\"sk-item\"><div class=\"sk-estimator sk-toggleable\"><input class=\"sk-toggleable__control sk-hidden--visually\" id=\"sk-estimator-id-20\" type=\"checkbox\" ><label for=\"sk-estimator-id-20\" class=\"sk-toggleable__label sk-toggleable__label-arrow\">TfidfVectorizer</label><div class=\"sk-toggleable__content\"><pre>TfidfVectorizer(stop_words=&#x27;english&#x27;)</pre></div></div></div><div class=\"sk-item sk-dashed-wrapped\"><div class=\"sk-label-container\"><div class=\"sk-label sk-toggleable\"><input class=\"sk-toggleable__control sk-hidden--visually\" id=\"sk-estimator-id-21\" type=\"checkbox\" ><label for=\"sk-estimator-id-21\" class=\"sk-toggleable__label sk-toggleable__label-arrow\">classifier: VotingClassifier</label><div class=\"sk-toggleable__content\"><pre>VotingClassifier(estimators=[(&#x27;LogisticRegression&#x27;,\n",
              "                              LogisticRegression(class_weight=&#x27;balanced&#x27;,\n",
              "                                                 max_iter=1400,\n",
              "                                                 random_state=0)),\n",
              "                             (&#x27;RandomForestClassifier&#x27;,\n",
              "                              RandomForestClassifier(class_weight=&#x27;balanced&#x27;,\n",
              "                                                     criterion=&#x27;entropy&#x27;,\n",
              "                                                     max_depth=22,\n",
              "                                                     min_samples_split=4,\n",
              "                                                     n_estimators=250,\n",
              "                                                     random_state=56)),\n",
              "                             (&#x27;SVC&#x27;, SVC(probability=True, random_state=42)),\n",
              "                             (&#x27;DecisionTreeClassifier&#x27;,\n",
              "                              DecisionTreeClassifier(class_weight=&#x27;balanced&#x27;,\n",
              "                                                     criterion=&#x27;entropy&#x27;,\n",
              "                                                     max_depth=22,\n",
              "                                                     random_state=42)),\n",
              "                             (&#x27;ExtraTreesClassifier&#x27;,\n",
              "                              ExtraTreesClassifier(class_weight=&#x27;balanced&#x27;,\n",
              "                                                   criterion=&#x27;entropy&#x27;,\n",
              "                                                   max_depth=22)),\n",
              "                             (&#x27;MultinomialNB&#x27;, MultinomialNB())],\n",
              "                 voting=&#x27;soft&#x27;)</pre></div></div></div><div class=\"sk-parallel\"><div class=\"sk-parallel-item\"><div class=\"sk-item\"><div class=\"sk-label-container\"><div class=\"sk-label sk-toggleable\"><label>LogisticRegression</label></div></div><div class=\"sk-serial\"><div class=\"sk-item\"><div class=\"sk-estimator sk-toggleable\"><input class=\"sk-toggleable__control sk-hidden--visually\" id=\"sk-estimator-id-22\" type=\"checkbox\" ><label for=\"sk-estimator-id-22\" class=\"sk-toggleable__label sk-toggleable__label-arrow\">LogisticRegression</label><div class=\"sk-toggleable__content\"><pre>LogisticRegression(class_weight=&#x27;balanced&#x27;, max_iter=1400, random_state=0)</pre></div></div></div></div></div></div><div class=\"sk-parallel-item\"><div class=\"sk-item\"><div class=\"sk-label-container\"><div class=\"sk-label sk-toggleable\"><label>RandomForestClassifier</label></div></div><div class=\"sk-serial\"><div class=\"sk-item\"><div class=\"sk-estimator sk-toggleable\"><input class=\"sk-toggleable__control sk-hidden--visually\" id=\"sk-estimator-id-23\" type=\"checkbox\" ><label for=\"sk-estimator-id-23\" class=\"sk-toggleable__label sk-toggleable__label-arrow\">RandomForestClassifier</label><div class=\"sk-toggleable__content\"><pre>RandomForestClassifier(class_weight=&#x27;balanced&#x27;, criterion=&#x27;entropy&#x27;,\n",
              "                       max_depth=22, min_samples_split=4, n_estimators=250,\n",
              "                       random_state=56)</pre></div></div></div></div></div></div><div class=\"sk-parallel-item\"><div class=\"sk-item\"><div class=\"sk-label-container\"><div class=\"sk-label sk-toggleable\"><label>SVC</label></div></div><div class=\"sk-serial\"><div class=\"sk-item\"><div class=\"sk-estimator sk-toggleable\"><input class=\"sk-toggleable__control sk-hidden--visually\" id=\"sk-estimator-id-24\" type=\"checkbox\" ><label for=\"sk-estimator-id-24\" class=\"sk-toggleable__label sk-toggleable__label-arrow\">SVC</label><div class=\"sk-toggleable__content\"><pre>SVC(probability=True, random_state=42)</pre></div></div></div></div></div></div><div class=\"sk-parallel-item\"><div class=\"sk-item\"><div class=\"sk-label-container\"><div class=\"sk-label sk-toggleable\"><label>DecisionTreeClassifier</label></div></div><div class=\"sk-serial\"><div class=\"sk-item\"><div class=\"sk-estimator sk-toggleable\"><input class=\"sk-toggleable__control sk-hidden--visually\" id=\"sk-estimator-id-25\" type=\"checkbox\" ><label for=\"sk-estimator-id-25\" class=\"sk-toggleable__label sk-toggleable__label-arrow\">DecisionTreeClassifier</label><div class=\"sk-toggleable__content\"><pre>DecisionTreeClassifier(class_weight=&#x27;balanced&#x27;, criterion=&#x27;entropy&#x27;,\n",
              "                       max_depth=22, random_state=42)</pre></div></div></div></div></div></div><div class=\"sk-parallel-item\"><div class=\"sk-item\"><div class=\"sk-label-container\"><div class=\"sk-label sk-toggleable\"><label>ExtraTreesClassifier</label></div></div><div class=\"sk-serial\"><div class=\"sk-item\"><div class=\"sk-estimator sk-toggleable\"><input class=\"sk-toggleable__control sk-hidden--visually\" id=\"sk-estimator-id-26\" type=\"checkbox\" ><label for=\"sk-estimator-id-26\" class=\"sk-toggleable__label sk-toggleable__label-arrow\">ExtraTreesClassifier</label><div class=\"sk-toggleable__content\"><pre>ExtraTreesClassifier(class_weight=&#x27;balanced&#x27;, criterion=&#x27;entropy&#x27;, max_depth=22)</pre></div></div></div></div></div></div><div class=\"sk-parallel-item\"><div class=\"sk-item\"><div class=\"sk-label-container\"><div class=\"sk-label sk-toggleable\"><label>MultinomialNB</label></div></div><div class=\"sk-serial\"><div class=\"sk-item\"><div class=\"sk-estimator sk-toggleable\"><input class=\"sk-toggleable__control sk-hidden--visually\" id=\"sk-estimator-id-27\" type=\"checkbox\" ><label for=\"sk-estimator-id-27\" class=\"sk-toggleable__label sk-toggleable__label-arrow\">MultinomialNB</label><div class=\"sk-toggleable__content\"><pre>MultinomialNB()</pre></div></div></div></div></div></div></div></div></div></div></div></div>"
            ]
          },
          "metadata": {},
          "execution_count": 50
        }
      ]
    },
    {
      "cell_type": "code",
      "source": [
        "from sklearn.metrics import accuracy_score, precision_score, recall_score, f1_score, classification_report\n",
        "from collections import defaultdict\n",
        "\n",
        "tfidf = TfidfVectorizer(stop_words='english',analyzer='word')\n",
        "x_train_matrix = tfidf.fit_transform(X_train).toarray()\n",
        "x_test_matrix = tfidf.transform(X_test).toarray()\n",
        "accuracy_dict = defaultdict(int)\n",
        "for name, clf in voting_clf.named_estimators_.items():\n",
        "    clf.fit(x_train_matrix, y_train)\n",
        "    y_pred = clf.predict(x_test_matrix)\n",
        "    print(clf.__class__.__name__)\n",
        "    accuracy = accuracy_score(y_test, y_pred)\n",
        "    accuracy_dict[clf.__class__.__name__] = accuracy\n",
        "    print('Accuracy: ', accuracy)\n",
        "    print('Precision: ', precision_score(y_test, y_pred, average='weighted'))\n",
        "    print('Recall: ', recall_score(y_test, y_pred, average='weighted'))\n",
        "    print('F1 Score: ', f1_score(y_test, y_pred, average='weighted'))\n",
        "    print('Classification Report: \\n' , classification_report(y_test, y_pred))\n",
        "    print('***********************************************************************\\n')"
      ],
      "metadata": {
        "id": "Mg6VaYP5KLxg",
        "colab": {
          "base_uri": "https://localhost:8080/"
        },
        "outputId": "fd1e2a62-3f07-49e0-8cdf-7457f7b50b52"
      },
      "execution_count": 51,
      "outputs": [
        {
          "output_type": "stream",
          "name": "stdout",
          "text": [
            "LogisticRegression\n",
            "Accuracy:  0.8046272493573264\n",
            "Precision:  0.8164173560788747\n",
            "Recall:  0.8046272493573264\n",
            "F1 Score:  0.8068210090961856\n",
            "Classification Report: \n",
            "                     precision    recall  f1-score   support\n",
            "\n",
            "                AI       0.82      0.83      0.82       143\n",
            "            Crypto       0.88      0.92      0.90        25\n",
            "           Fashion       0.90      0.82      0.86       118\n",
            "              Food       0.86      0.92      0.89        52\n",
            "Health & lifestyle       0.82      0.86      0.84        21\n",
            "             Music       0.92      0.96      0.94        23\n",
            "         Political       0.65      0.69      0.67        58\n",
            "            Sports       0.51      0.65      0.57        34\n",
            "      Stock market       0.50      0.69      0.58        39\n",
            "            Travel       0.89      0.65      0.75        37\n",
            "            beauty       0.58      0.58      0.58        12\n",
            "   computer-vision       0.80      0.83      0.82       119\n",
            "      cooking-tips       0.75      0.30      0.43        10\n",
            "     entertainment       0.29      0.25      0.27         8\n",
            "      gg-good-game       0.38      0.43      0.40         7\n",
            "         horoscope       0.88      0.88      0.88         8\n",
            "  machine-learning       0.89      0.86      0.87       432\n",
            "       money-diary       0.67      0.25      0.36         8\n",
            "            movies       0.80      0.50      0.62         8\n",
            "    work-and-money       0.17      0.40      0.24         5\n",
            "\n",
            "          accuracy                           0.80      1167\n",
            "         macro avg       0.70      0.66      0.66      1167\n",
            "      weighted avg       0.82      0.80      0.81      1167\n",
            "\n",
            "***********************************************************************\n",
            "\n",
            "RandomForestClassifier\n",
            "Accuracy:  0.6529562982005142\n",
            "Precision:  0.7755265603381907\n",
            "Recall:  0.6529562982005142\n",
            "F1 Score:  0.6911412310458983\n",
            "Classification Report: \n",
            "                     precision    recall  f1-score   support\n",
            "\n",
            "                AI       0.82      0.71      0.76       143\n",
            "            Crypto       0.85      0.92      0.88        25\n",
            "           Fashion       0.87      0.64      0.74       118\n",
            "              Food       0.77      0.79      0.78        52\n",
            "Health & lifestyle       0.76      0.90      0.83        21\n",
            "             Music       0.89      0.70      0.78        23\n",
            "         Political       0.67      0.64      0.65        58\n",
            "            Sports       0.35      0.59      0.44        34\n",
            "      Stock market       0.13      0.67      0.21        39\n",
            "            Travel       0.88      0.57      0.69        37\n",
            "            beauty       0.46      0.50      0.48        12\n",
            "   computer-vision       0.72      0.80      0.76       119\n",
            "      cooking-tips       0.40      0.20      0.27        10\n",
            "     entertainment       0.20      0.25      0.22         8\n",
            "      gg-good-game       0.50      0.57      0.53         7\n",
            "         horoscope       0.54      0.88      0.67         8\n",
            "  machine-learning       0.90      0.60      0.72       432\n",
            "       money-diary       0.00      0.00      0.00         8\n",
            "            movies       0.43      0.38      0.40         8\n",
            "    work-and-money       0.25      0.60      0.35         5\n",
            "\n",
            "          accuracy                           0.65      1167\n",
            "         macro avg       0.57      0.59      0.56      1167\n",
            "      weighted avg       0.78      0.65      0.69      1167\n",
            "\n",
            "***********************************************************************\n",
            "\n",
            "SVC\n",
            "Accuracy:  0.7489288774635818\n",
            "Precision:  0.7502701606843972\n",
            "Recall:  0.7489288774635818\n",
            "F1 Score:  0.7255811760742747\n",
            "Classification Report: \n",
            "                     precision    recall  f1-score   support\n",
            "\n",
            "                AI       0.81      0.84      0.82       143\n",
            "            Crypto       1.00      0.76      0.86        25\n",
            "           Fashion       0.86      0.80      0.83       118\n",
            "              Food       0.97      0.69      0.81        52\n",
            "Health & lifestyle       0.94      0.71      0.81        21\n",
            "             Music       0.94      0.74      0.83        23\n",
            "         Political       0.69      0.47      0.56        58\n",
            "            Sports       0.83      0.44      0.58        34\n",
            "      Stock market       0.88      0.36      0.51        39\n",
            "            Travel       0.95      0.51      0.67        37\n",
            "            beauty       0.00      0.00      0.00        12\n",
            "   computer-vision       0.93      0.70      0.80       119\n",
            "      cooking-tips       0.00      0.00      0.00        10\n",
            "     entertainment       0.00      0.00      0.00         8\n",
            "      gg-good-game       0.00      0.00      0.00         7\n",
            "         horoscope       1.00      0.25      0.40         8\n",
            "  machine-learning       0.66      0.95      0.78       432\n",
            "       money-diary       0.00      0.00      0.00         8\n",
            "            movies       0.00      0.00      0.00         8\n",
            "    work-and-money       0.30      0.60      0.40         5\n",
            "\n",
            "          accuracy                           0.75      1167\n",
            "         macro avg       0.59      0.44      0.48      1167\n",
            "      weighted avg       0.75      0.75      0.73      1167\n",
            "\n",
            "***********************************************************************\n",
            "\n"
          ]
        },
        {
          "output_type": "stream",
          "name": "stderr",
          "text": [
            "/usr/local/lib/python3.9/dist-packages/sklearn/metrics/_classification.py:1344: UndefinedMetricWarning: Precision is ill-defined and being set to 0.0 in labels with no predicted samples. Use `zero_division` parameter to control this behavior.\n",
            "  _warn_prf(average, modifier, msg_start, len(result))\n",
            "/usr/local/lib/python3.9/dist-packages/sklearn/metrics/_classification.py:1344: UndefinedMetricWarning: Precision and F-score are ill-defined and being set to 0.0 in labels with no predicted samples. Use `zero_division` parameter to control this behavior.\n",
            "  _warn_prf(average, modifier, msg_start, len(result))\n",
            "/usr/local/lib/python3.9/dist-packages/sklearn/metrics/_classification.py:1344: UndefinedMetricWarning: Precision and F-score are ill-defined and being set to 0.0 in labels with no predicted samples. Use `zero_division` parameter to control this behavior.\n",
            "  _warn_prf(average, modifier, msg_start, len(result))\n",
            "/usr/local/lib/python3.9/dist-packages/sklearn/metrics/_classification.py:1344: UndefinedMetricWarning: Precision and F-score are ill-defined and being set to 0.0 in labels with no predicted samples. Use `zero_division` parameter to control this behavior.\n",
            "  _warn_prf(average, modifier, msg_start, len(result))\n"
          ]
        },
        {
          "output_type": "stream",
          "name": "stdout",
          "text": [
            "DecisionTreeClassifier\n",
            "Accuracy:  0.3856041131105398\n",
            "Precision:  0.7811635300192267\n",
            "Recall:  0.3856041131105398\n",
            "F1 Score:  0.49748450176490144\n",
            "Classification Report: \n",
            "                     precision    recall  f1-score   support\n",
            "\n",
            "                AI       0.82      0.48      0.60       143\n",
            "            Crypto       0.83      0.80      0.82        25\n",
            "           Fashion       0.93      0.35      0.51       118\n",
            "              Food       0.93      0.27      0.42        52\n",
            "Health & lifestyle       0.61      0.81      0.69        21\n",
            "             Music       0.48      0.57      0.52        23\n",
            "         Political       0.73      0.41      0.53        58\n",
            "            Sports       0.76      0.38      0.51        34\n",
            "      Stock market       0.00      0.00      0.00        39\n",
            "            Travel       0.88      0.41      0.56        37\n",
            "            beauty       0.60      0.25      0.35        12\n",
            "   computer-vision       0.71      0.44      0.54       119\n",
            "      cooking-tips       1.00      0.20      0.33        10\n",
            "     entertainment       0.01      1.00      0.03         8\n",
            "      gg-good-game       0.00      0.00      0.00         7\n",
            "         horoscope       1.00      0.25      0.40         8\n",
            "  machine-learning       0.86      0.35      0.50       432\n",
            "       money-diary       0.56      0.62      0.59         8\n",
            "            movies       0.67      0.25      0.36         8\n",
            "    work-and-money       0.00      0.00      0.00         5\n",
            "\n",
            "          accuracy                           0.39      1167\n",
            "         macro avg       0.62      0.39      0.41      1167\n",
            "      weighted avg       0.78      0.39      0.50      1167\n",
            "\n",
            "***********************************************************************\n",
            "\n"
          ]
        },
        {
          "output_type": "stream",
          "name": "stderr",
          "text": [
            "/usr/local/lib/python3.9/dist-packages/sklearn/metrics/_classification.py:1344: UndefinedMetricWarning: Precision is ill-defined and being set to 0.0 in labels with no predicted samples. Use `zero_division` parameter to control this behavior.\n",
            "  _warn_prf(average, modifier, msg_start, len(result))\n",
            "/usr/local/lib/python3.9/dist-packages/sklearn/metrics/_classification.py:1344: UndefinedMetricWarning: Precision and F-score are ill-defined and being set to 0.0 in labels with no predicted samples. Use `zero_division` parameter to control this behavior.\n",
            "  _warn_prf(average, modifier, msg_start, len(result))\n",
            "/usr/local/lib/python3.9/dist-packages/sklearn/metrics/_classification.py:1344: UndefinedMetricWarning: Precision and F-score are ill-defined and being set to 0.0 in labels with no predicted samples. Use `zero_division` parameter to control this behavior.\n",
            "  _warn_prf(average, modifier, msg_start, len(result))\n",
            "/usr/local/lib/python3.9/dist-packages/sklearn/metrics/_classification.py:1344: UndefinedMetricWarning: Precision and F-score are ill-defined and being set to 0.0 in labels with no predicted samples. Use `zero_division` parameter to control this behavior.\n",
            "  _warn_prf(average, modifier, msg_start, len(result))\n"
          ]
        },
        {
          "output_type": "stream",
          "name": "stdout",
          "text": [
            "ExtraTreesClassifier\n",
            "Accuracy:  0.6606683804627249\n",
            "Precision:  0.7608671573422545\n",
            "Recall:  0.6606683804627249\n",
            "F1 Score:  0.6845460784728071\n",
            "Classification Report: \n",
            "                     precision    recall  f1-score   support\n",
            "\n",
            "                AI       0.79      0.76      0.77       143\n",
            "            Crypto       0.72      0.92      0.81        25\n",
            "           Fashion       0.89      0.65      0.75       118\n",
            "              Food       0.82      0.81      0.82        52\n",
            "Health & lifestyle       0.83      0.90      0.86        21\n",
            "             Music       0.57      0.74      0.64        23\n",
            "         Political       0.21      0.72      0.32        58\n",
            "            Sports       0.49      0.56      0.52        34\n",
            "      Stock market       0.43      0.59      0.49        39\n",
            "            Travel       0.64      0.57      0.60        37\n",
            "            beauty       0.45      0.42      0.43        12\n",
            "   computer-vision       0.73      0.82      0.77       119\n",
            "      cooking-tips       1.00      0.20      0.33        10\n",
            "     entertainment       0.33      0.12      0.18         8\n",
            "      gg-good-game       0.30      0.43      0.35         7\n",
            "         horoscope       0.44      0.88      0.58         8\n",
            "  machine-learning       0.91      0.60      0.72       432\n",
            "       money-diary       0.00      0.00      0.00         8\n",
            "            movies       0.43      0.38      0.40         8\n",
            "    work-and-money       0.23      0.60      0.33         5\n",
            "\n",
            "          accuracy                           0.66      1167\n",
            "         macro avg       0.56      0.58      0.54      1167\n",
            "      weighted avg       0.76      0.66      0.68      1167\n",
            "\n",
            "***********************************************************************\n",
            "\n",
            "MultinomialNB\n",
            "Accuracy:  0.6041131105398457\n",
            "Precision:  0.6639214713589054\n",
            "Recall:  0.6041131105398457\n",
            "F1 Score:  0.5302988206773825\n",
            "Classification Report: \n",
            "                     precision    recall  f1-score   support\n",
            "\n",
            "                AI       0.61      0.71      0.66       143\n",
            "            Crypto       1.00      0.08      0.15        25\n",
            "           Fashion       0.75      0.70      0.72       118\n",
            "              Food       1.00      0.23      0.38        52\n",
            "Health & lifestyle       1.00      0.24      0.38        21\n",
            "             Music       1.00      0.13      0.23        23\n",
            "         Political       1.00      0.21      0.34        58\n",
            "            Sports       1.00      0.03      0.06        34\n",
            "      Stock market       0.00      0.00      0.00        39\n",
            "            Travel       1.00      0.14      0.24        37\n",
            "            beauty       0.00      0.00      0.00        12\n",
            "   computer-vision       0.98      0.42      0.59       119\n",
            "      cooking-tips       0.00      0.00      0.00        10\n",
            "     entertainment       0.00      0.00      0.00         8\n",
            "      gg-good-game       0.00      0.00      0.00         7\n",
            "         horoscope       0.00      0.00      0.00         8\n",
            "  machine-learning       0.54      1.00      0.70       432\n",
            "       money-diary       0.00      0.00      0.00         8\n",
            "            movies       0.00      0.00      0.00         8\n",
            "    work-and-money       0.00      0.00      0.00         5\n",
            "\n",
            "          accuracy                           0.60      1167\n",
            "         macro avg       0.49      0.19      0.22      1167\n",
            "      weighted avg       0.66      0.60      0.53      1167\n",
            "\n",
            "***********************************************************************\n",
            "\n"
          ]
        },
        {
          "output_type": "stream",
          "name": "stderr",
          "text": [
            "/usr/local/lib/python3.9/dist-packages/sklearn/metrics/_classification.py:1344: UndefinedMetricWarning: Precision is ill-defined and being set to 0.0 in labels with no predicted samples. Use `zero_division` parameter to control this behavior.\n",
            "  _warn_prf(average, modifier, msg_start, len(result))\n",
            "/usr/local/lib/python3.9/dist-packages/sklearn/metrics/_classification.py:1344: UndefinedMetricWarning: Precision and F-score are ill-defined and being set to 0.0 in labels with no predicted samples. Use `zero_division` parameter to control this behavior.\n",
            "  _warn_prf(average, modifier, msg_start, len(result))\n",
            "/usr/local/lib/python3.9/dist-packages/sklearn/metrics/_classification.py:1344: UndefinedMetricWarning: Precision and F-score are ill-defined and being set to 0.0 in labels with no predicted samples. Use `zero_division` parameter to control this behavior.\n",
            "  _warn_prf(average, modifier, msg_start, len(result))\n",
            "/usr/local/lib/python3.9/dist-packages/sklearn/metrics/_classification.py:1344: UndefinedMetricWarning: Precision and F-score are ill-defined and being set to 0.0 in labels with no predicted samples. Use `zero_division` parameter to control this behavior.\n",
            "  _warn_prf(average, modifier, msg_start, len(result))\n"
          ]
        }
      ]
    },
    {
      "cell_type": "markdown",
      "source": [
        "Finding the classifier with the highest accuracy:"
      ],
      "metadata": {
        "id": "w8azSSVLPObx"
      }
    },
    {
      "cell_type": "code",
      "source": [
        "print('The classifier with the highest accuracy is: ')\n",
        "highest_accuracy_classifier = max(accuracy_dict, key=accuracy_dict.get)\n",
        "print(highest_accuracy_classifier)"
      ],
      "metadata": {
        "colab": {
          "base_uri": "https://localhost:8080/"
        },
        "id": "xqPHufETNFID",
        "outputId": "d4d56b5e-bf58-4b7e-fbc7-86ace5888ad8"
      },
      "execution_count": 52,
      "outputs": [
        {
          "output_type": "stream",
          "name": "stdout",
          "text": [
            "The classifier with the highest accuracy is: \n",
            "LogisticRegression\n"
          ]
        }
      ]
    },
    {
      "cell_type": "markdown",
      "source": [
        "Getting the highest accuracy classifier:"
      ],
      "metadata": {
        "id": "pGN-0CYyPVLL"
      }
    },
    {
      "cell_type": "code",
      "source": [
        "for classifier_name, classifier in classifiers:\n",
        "  if classifier_name == highest_accuracy_classifier:\n",
        "    clf = classifier\n",
        "    break"
      ],
      "metadata": {
        "id": "VNLGKH0COyd6"
      },
      "execution_count": 53,
      "outputs": []
    },
    {
      "cell_type": "code",
      "source": [
        "clf"
      ],
      "metadata": {
        "colab": {
          "base_uri": "https://localhost:8080/",
          "height": 74
        },
        "id": "l7tNpjKJQ1x-",
        "outputId": "ab73fc23-f931-479a-b512-086b3fb159a2"
      },
      "execution_count": 54,
      "outputs": [
        {
          "output_type": "execute_result",
          "data": {
            "text/plain": [
              "LogisticRegression(class_weight='balanced', max_iter=1400, random_state=0)"
            ],
            "text/html": [
              "<style>#sk-container-id-4 {color: black;background-color: white;}#sk-container-id-4 pre{padding: 0;}#sk-container-id-4 div.sk-toggleable {background-color: white;}#sk-container-id-4 label.sk-toggleable__label {cursor: pointer;display: block;width: 100%;margin-bottom: 0;padding: 0.3em;box-sizing: border-box;text-align: center;}#sk-container-id-4 label.sk-toggleable__label-arrow:before {content: \"▸\";float: left;margin-right: 0.25em;color: #696969;}#sk-container-id-4 label.sk-toggleable__label-arrow:hover:before {color: black;}#sk-container-id-4 div.sk-estimator:hover label.sk-toggleable__label-arrow:before {color: black;}#sk-container-id-4 div.sk-toggleable__content {max-height: 0;max-width: 0;overflow: hidden;text-align: left;background-color: #f0f8ff;}#sk-container-id-4 div.sk-toggleable__content pre {margin: 0.2em;color: black;border-radius: 0.25em;background-color: #f0f8ff;}#sk-container-id-4 input.sk-toggleable__control:checked~div.sk-toggleable__content {max-height: 200px;max-width: 100%;overflow: auto;}#sk-container-id-4 input.sk-toggleable__control:checked~label.sk-toggleable__label-arrow:before {content: \"▾\";}#sk-container-id-4 div.sk-estimator input.sk-toggleable__control:checked~label.sk-toggleable__label {background-color: #d4ebff;}#sk-container-id-4 div.sk-label input.sk-toggleable__control:checked~label.sk-toggleable__label {background-color: #d4ebff;}#sk-container-id-4 input.sk-hidden--visually {border: 0;clip: rect(1px 1px 1px 1px);clip: rect(1px, 1px, 1px, 1px);height: 1px;margin: -1px;overflow: hidden;padding: 0;position: absolute;width: 1px;}#sk-container-id-4 div.sk-estimator {font-family: monospace;background-color: #f0f8ff;border: 1px dotted black;border-radius: 0.25em;box-sizing: border-box;margin-bottom: 0.5em;}#sk-container-id-4 div.sk-estimator:hover {background-color: #d4ebff;}#sk-container-id-4 div.sk-parallel-item::after {content: \"\";width: 100%;border-bottom: 1px solid gray;flex-grow: 1;}#sk-container-id-4 div.sk-label:hover label.sk-toggleable__label {background-color: #d4ebff;}#sk-container-id-4 div.sk-serial::before {content: \"\";position: absolute;border-left: 1px solid gray;box-sizing: border-box;top: 0;bottom: 0;left: 50%;z-index: 0;}#sk-container-id-4 div.sk-serial {display: flex;flex-direction: column;align-items: center;background-color: white;padding-right: 0.2em;padding-left: 0.2em;position: relative;}#sk-container-id-4 div.sk-item {position: relative;z-index: 1;}#sk-container-id-4 div.sk-parallel {display: flex;align-items: stretch;justify-content: center;background-color: white;position: relative;}#sk-container-id-4 div.sk-item::before, #sk-container-id-4 div.sk-parallel-item::before {content: \"\";position: absolute;border-left: 1px solid gray;box-sizing: border-box;top: 0;bottom: 0;left: 50%;z-index: -1;}#sk-container-id-4 div.sk-parallel-item {display: flex;flex-direction: column;z-index: 1;position: relative;background-color: white;}#sk-container-id-4 div.sk-parallel-item:first-child::after {align-self: flex-end;width: 50%;}#sk-container-id-4 div.sk-parallel-item:last-child::after {align-self: flex-start;width: 50%;}#sk-container-id-4 div.sk-parallel-item:only-child::after {width: 0;}#sk-container-id-4 div.sk-dashed-wrapped {border: 1px dashed gray;margin: 0 0.4em 0.5em 0.4em;box-sizing: border-box;padding-bottom: 0.4em;background-color: white;}#sk-container-id-4 div.sk-label label {font-family: monospace;font-weight: bold;display: inline-block;line-height: 1.2em;}#sk-container-id-4 div.sk-label-container {text-align: center;}#sk-container-id-4 div.sk-container {/* jupyter's `normalize.less` sets `[hidden] { display: none; }` but bootstrap.min.css set `[hidden] { display: none !important; }` so we also need the `!important` here to be able to override the default hidden behavior on the sphinx rendered scikit-learn.org. See: https://github.com/scikit-learn/scikit-learn/issues/21755 */display: inline-block !important;position: relative;}#sk-container-id-4 div.sk-text-repr-fallback {display: none;}</style><div id=\"sk-container-id-4\" class=\"sk-top-container\"><div class=\"sk-text-repr-fallback\"><pre>LogisticRegression(class_weight=&#x27;balanced&#x27;, max_iter=1400, random_state=0)</pre><b>In a Jupyter environment, please rerun this cell to show the HTML representation or trust the notebook. <br />On GitHub, the HTML representation is unable to render, please try loading this page with nbviewer.org.</b></div><div class=\"sk-container\" hidden><div class=\"sk-item\"><div class=\"sk-estimator sk-toggleable\"><input class=\"sk-toggleable__control sk-hidden--visually\" id=\"sk-estimator-id-28\" type=\"checkbox\" checked><label for=\"sk-estimator-id-28\" class=\"sk-toggleable__label sk-toggleable__label-arrow\">LogisticRegression</label><div class=\"sk-toggleable__content\"><pre>LogisticRegression(class_weight=&#x27;balanced&#x27;, max_iter=1400, random_state=0)</pre></div></div></div></div></div>"
            ]
          },
          "metadata": {},
          "execution_count": 54
        }
      ]
    },
    {
      "cell_type": "code",
      "execution_count": 55,
      "metadata": {
        "colab": {
          "base_uri": "https://localhost:8080/"
        },
        "id": "tr4hRXfKlt8o",
        "outputId": "6802bfa4-5767-4223-cd9c-8db63b494bfb"
      },
      "outputs": [
        {
          "output_type": "stream",
          "name": "stdout",
          "text": [
            "Accuracy: 0.8020565552699229\n"
          ]
        }
      ],
      "source": [
        "from sklearn.feature_extraction.text import CountVectorizer\n",
        "from sklearn.naive_bayes import MultinomialNB\n",
        "from sklearn.metrics import accuracy_score\n",
        "\n",
        "# Extract features from the text data\n",
        "vectorizer = CountVectorizer()\n",
        "vectorizer.fit(df['title'])\n",
        "X_train = vectorizer.transform(X_train)\n",
        "X_test = vectorizer.transform(X_test)\n",
        "\n",
        "# # Train a Naive Bayes classifier\n",
        "# clf = MultinomialNB()\n",
        "clf.fit(X_train, y_train)\n",
        "\n",
        "# Predict on the test data\n",
        "y_pred = clf.predict(X_test)\n",
        "\n",
        "# Evaluate the accuracy of the classifier\n",
        "accuracy = accuracy_score(y_test, y_pred)\n",
        "print(\"Accuracy:\", accuracy)"
      ]
    },
    {
      "cell_type": "code",
      "execution_count": 79,
      "metadata": {
        "id": "ea9nJhd07XiM"
      },
      "outputs": [],
      "source": [
        "import pickle\n",
        "\n",
        "pickle.dump(clf, open('classifier_model.sav', 'wb'))\n",
        "pickle.dump(vectorizer, open('vectorizer.sav', 'wb'))\n"
      ]
    },
    {
      "cell_type": "code",
      "execution_count": null,
      "metadata": {
        "id": "UGGIz-U_mZvC"
      },
      "outputs": [],
      "source": [
        "# X_test.head(1)"
      ]
    },
    {
      "cell_type": "code",
      "execution_count": null,
      "metadata": {
        "colab": {
          "base_uri": "https://localhost:8080/"
        },
        "id": "dKazXIirmNuR",
        "outputId": "2520b262-0693-41a6-ca7e-ac3de1358ba6"
      },
      "outputs": [
        {
          "output_type": "execute_result",
          "data": {
            "text/plain": [
              "array(['Fashion'], dtype='<U18')"
            ]
          },
          "metadata": {},
          "execution_count": 43
        }
      ],
      "source": [
        "clf.predict(X_test[0])"
      ]
    },
    {
      "cell_type": "code",
      "execution_count": 62,
      "metadata": {
        "id": "9a1FuJAyphS4"
      },
      "outputs": [],
      "source": [
        "inpt = 'egg and milk'\n",
        "test = vectorizer.transform([inpt])"
      ]
    },
    {
      "cell_type": "code",
      "execution_count": 63,
      "metadata": {
        "id": "Zp6rjZiYpWpG",
        "colab": {
          "base_uri": "https://localhost:8080/"
        },
        "outputId": "b11b1e98-fec4-4c22-ecb5-a667de8082ba"
      },
      "outputs": [
        {
          "output_type": "execute_result",
          "data": {
            "text/plain": [
              "array(['Food'], dtype=object)"
            ]
          },
          "metadata": {},
          "execution_count": 63
        }
      ],
      "source": [
        "prediction = clf.predict(test)\n",
        "prediction"
      ]
    },
    {
      "cell_type": "code",
      "execution_count": 65,
      "metadata": {
        "id": "jWcT0NrtrsV3"
      },
      "outputs": [],
      "source": [
        "filtered_df = df[df['category'] == prediction[0]]"
      ]
    },
    {
      "cell_type": "code",
      "execution_count": 66,
      "metadata": {
        "id": "afvhUYLXsTZz"
      },
      "outputs": [],
      "source": [
        "filtered_df_tr = vectorizer.transform(filtered_df['title'])"
      ]
    },
    {
      "cell_type": "code",
      "execution_count": 67,
      "metadata": {
        "id": "Tzd-Tdtusz9p",
        "colab": {
          "base_uri": "https://localhost:8080/"
        },
        "outputId": "8dd4b105-a6d2-453c-9ef7-303dcf4320c7"
      },
      "outputs": [
        {
          "output_type": "execute_result",
          "data": {
            "text/plain": [
              "(135, 4673)"
            ]
          },
          "metadata": {},
          "execution_count": 67
        }
      ],
      "source": [
        "filtered_df_tr.shape"
      ]
    },
    {
      "cell_type": "code",
      "execution_count": 68,
      "metadata": {
        "id": "7kl3SV6TqUIC"
      },
      "outputs": [],
      "source": [
        "# Compute cosine similarities\n",
        "from sklearn.metrics.pairwise import cosine_similarity\n",
        "similarities = cosine_similarity(test, filtered_df_tr)"
      ]
    },
    {
      "cell_type": "code",
      "execution_count": 69,
      "metadata": {
        "colab": {
          "base_uri": "https://localhost:8080/"
        },
        "id": "fON_7L4_ra79",
        "outputId": "f734fd4b-1b7a-4e57-83a5-9369d9b7c510"
      },
      "outputs": [
        {
          "output_type": "stream",
          "name": "stdout",
          "text": [
            "Top 10 similar records:\n",
            "                                                 title  \\\n",
            "369                                  Florida Milk Blog   \n",
            "378                            Boiling the Perfect Egg   \n",
            "341  Nutrient Timing: Pre and Post-Workout Question...   \n",
            "429  Vegan vs. Vegetarian: An Quick And Effective I...   \n",
            "356           What to Eat Before and After Working Out   \n",
            "432    Vegan vs. Vegetarian: The Pros and Cons of Each   \n",
            "325  Food insecurity and economic misery in low-inc...   \n",
            "412  15 Amazingly Delicious And Healthy Breakfast I...   \n",
            "274  Vegan Alternatives: The Ultimate Dairy and Mea...   \n",
            "360   The Best and Worst Foods to Eat Before a Workout   \n",
            "\n",
            "                                                   URL  \n",
            "369  https://www.floridamilk.com/in-the-news/blog/n...  \n",
            "378  https://www.gygiblog.com/blog/2020/04/08/boili...  \n",
            "341  https://blog.nasm.org/workout-and-nutrition-ti...  \n",
            "429  https://alcoeats.com/blogs/fun-with-alcoeats/v...  \n",
            "356  https://eatcleanbro.com/blog/post/what-to-eat-...  \n",
            "432  https://www.bolay.com/blog/vegan-vs-vegetarian...  \n",
            "325  https://www.brookings.edu/blog/future-developm...  \n",
            "412  https://www.vantagefit.io/blog/healthy-breakfa...  \n",
            "274  https://tofubud.com/blogs/tips/vegan-alternatives  \n",
            "360  https://steelsupplements.com/blogs/steel-blog/...  \n"
          ]
        }
      ],
      "source": [
        "# Get the indices of the top 10 highest cosine similarity values\n",
        "similar_indices = (-similarities[0]).argsort()[:10]\n",
        "\n",
        "# Get the corresponding texts from your dataframe\n",
        "similar_blogs = filtered_df.iloc[similar_indices]\n",
        "\n",
        "print(\"Top 10 similar records:\")\n",
        "print(similar_blogs[['title', 'URL']])"
      ]
    },
    {
      "cell_type": "markdown",
      "metadata": {
        "id": "b0MkoTrihPbz"
      },
      "source": [
        "UI:"
      ]
    },
    {
      "cell_type": "code",
      "execution_count": 70,
      "metadata": {
        "colab": {
          "base_uri": "https://localhost:8080/"
        },
        "id": "mglIbfPEhL8m",
        "outputId": "f35c9b27-712e-45be-9fde-4d4b1422652b"
      },
      "outputs": [
        {
          "output_type": "stream",
          "name": "stdout",
          "text": [
            "Looking in indexes: https://pypi.org/simple, https://us-python.pkg.dev/colab-wheels/public/simple/\n",
            "Collecting gradio\n",
            "  Downloading gradio-3.27.0-py3-none-any.whl (17.3 MB)\n",
            "\u001b[2K     \u001b[90m━━━━━━━━━━━━━━━━━━━━━━━━━━━━━━━━━━━━━━━━\u001b[0m \u001b[32m17.3/17.3 MB\u001b[0m \u001b[31m48.7 MB/s\u001b[0m eta \u001b[36m0:00:00\u001b[0m\n",
            "\u001b[?25hCollecting mdit-py-plugins<=0.3.3\n",
            "  Downloading mdit_py_plugins-0.3.3-py3-none-any.whl (50 kB)\n",
            "\u001b[2K     \u001b[90m━━━━━━━━━━━━━━━━━━━━━━━━━━━━━━━━━━━━━━━━\u001b[0m \u001b[32m50.5/50.5 kB\u001b[0m \u001b[31m7.3 MB/s\u001b[0m eta \u001b[36m0:00:00\u001b[0m\n",
            "\u001b[?25hRequirement already satisfied: pyyaml in /usr/local/lib/python3.9/dist-packages (from gradio) (6.0)\n",
            "Collecting huggingface-hub>=0.13.0\n",
            "  Downloading huggingface_hub-0.13.4-py3-none-any.whl (200 kB)\n",
            "\u001b[2K     \u001b[90m━━━━━━━━━━━━━━━━━━━━━━━━━━━━━━━━━━━━━━\u001b[0m \u001b[32m200.1/200.1 kB\u001b[0m \u001b[31m24.2 MB/s\u001b[0m eta \u001b[36m0:00:00\u001b[0m\n",
            "\u001b[?25hCollecting uvicorn\n",
            "  Downloading uvicorn-0.21.1-py3-none-any.whl (57 kB)\n",
            "\u001b[2K     \u001b[90m━━━━━━━━━━━━━━━━━━━━━━━━━━━━━━━━━━━━━━━━\u001b[0m \u001b[32m57.8/57.8 kB\u001b[0m \u001b[31m8.3 MB/s\u001b[0m eta \u001b[36m0:00:00\u001b[0m\n",
            "\u001b[?25hCollecting aiohttp\n",
            "  Downloading aiohttp-3.8.4-cp39-cp39-manylinux_2_17_x86_64.manylinux2014_x86_64.whl (1.0 MB)\n",
            "\u001b[2K     \u001b[90m━━━━━━━━━━━━━━━━━━━━━━━━━━━━━━━━━━━━━━━━\u001b[0m \u001b[32m1.0/1.0 MB\u001b[0m \u001b[31m59.6 MB/s\u001b[0m eta \u001b[36m0:00:00\u001b[0m\n",
            "\u001b[?25hRequirement already satisfied: markdown-it-py[linkify]>=2.0.0 in /usr/local/lib/python3.9/dist-packages (from gradio) (2.2.0)\n",
            "Collecting ffmpy\n",
            "  Downloading ffmpy-0.3.0.tar.gz (4.8 kB)\n",
            "  Preparing metadata (setup.py) ... \u001b[?25l\u001b[?25hdone\n",
            "Collecting python-multipart\n",
            "  Downloading python_multipart-0.0.6-py3-none-any.whl (45 kB)\n",
            "\u001b[2K     \u001b[90m━━━━━━━━━━━━━━━━━━━━━━━━━━━━━━━━━━━━━━━━\u001b[0m \u001b[32m45.7/45.7 kB\u001b[0m \u001b[31m7.1 MB/s\u001b[0m eta \u001b[36m0:00:00\u001b[0m\n",
            "\u001b[?25hRequirement already satisfied: matplotlib in /usr/local/lib/python3.9/dist-packages (from gradio) (3.7.1)\n",
            "Requirement already satisfied: altair>=4.2.0 in /usr/local/lib/python3.9/dist-packages (from gradio) (4.2.2)\n",
            "Collecting httpx\n",
            "  Downloading httpx-0.24.0-py3-none-any.whl (75 kB)\n",
            "\u001b[2K     \u001b[90m━━━━━━━━━━━━━━━━━━━━━━━━━━━━━━━━━━━━━━━━\u001b[0m \u001b[32m75.3/75.3 kB\u001b[0m \u001b[31m11.8 MB/s\u001b[0m eta \u001b[36m0:00:00\u001b[0m\n",
            "\u001b[?25hCollecting fastapi\n",
            "  Downloading fastapi-0.95.1-py3-none-any.whl (56 kB)\n",
            "\u001b[2K     \u001b[90m━━━━━━━━━━━━━━━━━━━━━━━━━━━━━━━━━━━━━━━━\u001b[0m \u001b[32m57.0/57.0 kB\u001b[0m \u001b[31m8.4 MB/s\u001b[0m eta \u001b[36m0:00:00\u001b[0m\n",
            "\u001b[?25hRequirement already satisfied: pandas in /usr/local/lib/python3.9/dist-packages (from gradio) (1.5.3)\n",
            "Collecting pydub\n",
            "  Downloading pydub-0.25.1-py2.py3-none-any.whl (32 kB)\n",
            "Requirement already satisfied: pydantic in /usr/local/lib/python3.9/dist-packages (from gradio) (1.10.7)\n",
            "Requirement already satisfied: requests in /usr/local/lib/python3.9/dist-packages (from gradio) (2.27.1)\n",
            "Requirement already satisfied: pillow in /usr/local/lib/python3.9/dist-packages (from gradio) (8.4.0)\n",
            "Collecting semantic-version\n",
            "  Downloading semantic_version-2.10.0-py2.py3-none-any.whl (15 kB)\n",
            "Collecting aiofiles\n",
            "  Downloading aiofiles-23.1.0-py3-none-any.whl (14 kB)\n",
            "Requirement already satisfied: markupsafe in /usr/local/lib/python3.9/dist-packages (from gradio) (2.1.2)\n",
            "Requirement already satisfied: numpy in /usr/local/lib/python3.9/dist-packages (from gradio) (1.22.4)\n",
            "Collecting websockets>=10.0\n",
            "  Downloading websockets-11.0.1-cp39-cp39-manylinux_2_5_x86_64.manylinux1_x86_64.manylinux_2_17_x86_64.manylinux2014_x86_64.whl (129 kB)\n",
            "\u001b[2K     \u001b[90m━━━━━━━━━━━━━━━━━━━━━━━━━━━━━━━━━━━━━━\u001b[0m \u001b[32m129.5/129.5 kB\u001b[0m \u001b[31m19.3 MB/s\u001b[0m eta \u001b[36m0:00:00\u001b[0m\n",
            "\u001b[?25hRequirement already satisfied: jinja2 in /usr/local/lib/python3.9/dist-packages (from gradio) (3.1.2)\n",
            "Requirement already satisfied: typing-extensions in /usr/local/lib/python3.9/dist-packages (from gradio) (4.5.0)\n",
            "Collecting gradio-client>=0.1.3\n",
            "  Downloading gradio_client-0.1.3-py3-none-any.whl (286 kB)\n",
            "\u001b[2K     \u001b[90m━━━━━━━━━━━━━━━━━━━━━━━━━━━━━━━━━━━━━━\u001b[0m \u001b[32m286.2/286.2 kB\u001b[0m \u001b[31m36.3 MB/s\u001b[0m eta \u001b[36m0:00:00\u001b[0m\n",
            "\u001b[?25hCollecting orjson\n",
            "  Downloading orjson-3.8.10-cp39-cp39-manylinux_2_28_x86_64.whl (140 kB)\n",
            "\u001b[2K     \u001b[90m━━━━━━━━━━━━━━━━━━━━━━━━━━━━━━━━━━━━━━\u001b[0m \u001b[32m140.5/140.5 kB\u001b[0m \u001b[31m21.1 MB/s\u001b[0m eta \u001b[36m0:00:00\u001b[0m\n",
            "\u001b[?25hRequirement already satisfied: entrypoints in /usr/local/lib/python3.9/dist-packages (from altair>=4.2.0->gradio) (0.4)\n",
            "Requirement already satisfied: toolz in /usr/local/lib/python3.9/dist-packages (from altair>=4.2.0->gradio) (0.12.0)\n",
            "Requirement already satisfied: jsonschema>=3.0 in /usr/local/lib/python3.9/dist-packages (from altair>=4.2.0->gradio) (4.3.3)\n",
            "Requirement already satisfied: packaging in /usr/local/lib/python3.9/dist-packages (from gradio-client>=0.1.3->gradio) (23.0)\n",
            "Requirement already satisfied: fsspec in /usr/local/lib/python3.9/dist-packages (from gradio-client>=0.1.3->gradio) (2023.4.0)\n",
            "Requirement already satisfied: filelock in /usr/local/lib/python3.9/dist-packages (from huggingface-hub>=0.13.0->gradio) (3.11.0)\n",
            "Requirement already satisfied: tqdm>=4.42.1 in /usr/local/lib/python3.9/dist-packages (from huggingface-hub>=0.13.0->gradio) (4.65.0)\n",
            "Requirement already satisfied: mdurl~=0.1 in /usr/local/lib/python3.9/dist-packages (from markdown-it-py[linkify]>=2.0.0->gradio) (0.1.2)\n",
            "Collecting linkify-it-py<3,>=1\n",
            "  Downloading linkify_it_py-2.0.0-py3-none-any.whl (19 kB)\n",
            "Requirement already satisfied: pytz>=2020.1 in /usr/local/lib/python3.9/dist-packages (from pandas->gradio) (2022.7.1)\n",
            "Requirement already satisfied: python-dateutil>=2.8.1 in /usr/local/lib/python3.9/dist-packages (from pandas->gradio) (2.8.2)\n",
            "Requirement already satisfied: attrs>=17.3.0 in /usr/local/lib/python3.9/dist-packages (from aiohttp->gradio) (22.2.0)\n",
            "Collecting async-timeout<5.0,>=4.0.0a3\n",
            "  Downloading async_timeout-4.0.2-py3-none-any.whl (5.8 kB)\n",
            "Requirement already satisfied: charset-normalizer<4.0,>=2.0 in /usr/local/lib/python3.9/dist-packages (from aiohttp->gradio) (2.0.12)\n",
            "Collecting frozenlist>=1.1.1\n",
            "  Downloading frozenlist-1.3.3-cp39-cp39-manylinux_2_5_x86_64.manylinux1_x86_64.manylinux_2_17_x86_64.manylinux2014_x86_64.whl (158 kB)\n",
            "\u001b[2K     \u001b[90m━━━━━━━━━━━━━━━━━━━━━━━━━━━━━━━━━━━━━━\u001b[0m \u001b[32m158.8/158.8 kB\u001b[0m \u001b[31m19.6 MB/s\u001b[0m eta \u001b[36m0:00:00\u001b[0m\n",
            "\u001b[?25hCollecting multidict<7.0,>=4.5\n",
            "  Downloading multidict-6.0.4-cp39-cp39-manylinux_2_17_x86_64.manylinux2014_x86_64.whl (114 kB)\n",
            "\u001b[2K     \u001b[90m━━━━━━━━━━━━━━━━━━━━━━━━━━━━━━━━━━━━━━\u001b[0m \u001b[32m114.2/114.2 kB\u001b[0m \u001b[31m17.7 MB/s\u001b[0m eta \u001b[36m0:00:00\u001b[0m\n",
            "\u001b[?25hCollecting yarl<2.0,>=1.0\n",
            "  Downloading yarl-1.8.2-cp39-cp39-manylinux_2_17_x86_64.manylinux2014_x86_64.whl (264 kB)\n",
            "\u001b[2K     \u001b[90m━━━━━━━━━━━━━━━━━━━━━━━━━━━━━━━━━━━━━━\u001b[0m \u001b[32m264.6/264.6 kB\u001b[0m \u001b[31m27.8 MB/s\u001b[0m eta \u001b[36m0:00:00\u001b[0m\n",
            "\u001b[?25hCollecting aiosignal>=1.1.2\n",
            "  Downloading aiosignal-1.3.1-py3-none-any.whl (7.6 kB)\n",
            "Collecting starlette<0.27.0,>=0.26.1\n",
            "  Downloading starlette-0.26.1-py3-none-any.whl (66 kB)\n",
            "\u001b[2K     \u001b[90m━━━━━━━━━━━━━━━━━━━━━━━━━━━━━━━━━━━━━━━━\u001b[0m \u001b[32m66.9/66.9 kB\u001b[0m \u001b[31m9.8 MB/s\u001b[0m eta \u001b[36m0:00:00\u001b[0m\n",
            "\u001b[?25hRequirement already satisfied: sniffio in /usr/local/lib/python3.9/dist-packages (from httpx->gradio) (1.3.0)\n",
            "Requirement already satisfied: certifi in /usr/local/lib/python3.9/dist-packages (from httpx->gradio) (2022.12.7)\n",
            "Requirement already satisfied: idna in /usr/local/lib/python3.9/dist-packages (from httpx->gradio) (3.4)\n",
            "Collecting httpcore<0.18.0,>=0.15.0\n",
            "  Downloading httpcore-0.17.0-py3-none-any.whl (70 kB)\n",
            "\u001b[2K     \u001b[90m━━━━━━━━━━━━━━━━━━━━━━━━━━━━━━━━━━━━━━━━\u001b[0m \u001b[32m70.6/70.6 kB\u001b[0m \u001b[31m10.4 MB/s\u001b[0m eta \u001b[36m0:00:00\u001b[0m\n",
            "\u001b[?25hRequirement already satisfied: contourpy>=1.0.1 in /usr/local/lib/python3.9/dist-packages (from matplotlib->gradio) (1.0.7)\n",
            "Requirement already satisfied: fonttools>=4.22.0 in /usr/local/lib/python3.9/dist-packages (from matplotlib->gradio) (4.39.3)\n",
            "Requirement already satisfied: kiwisolver>=1.0.1 in /usr/local/lib/python3.9/dist-packages (from matplotlib->gradio) (1.4.4)\n",
            "Requirement already satisfied: importlib-resources>=3.2.0 in /usr/local/lib/python3.9/dist-packages (from matplotlib->gradio) (5.12.0)\n",
            "Requirement already satisfied: pyparsing>=2.3.1 in /usr/local/lib/python3.9/dist-packages (from matplotlib->gradio) (3.0.9)\n",
            "Requirement already satisfied: cycler>=0.10 in /usr/local/lib/python3.9/dist-packages (from matplotlib->gradio) (0.11.0)\n",
            "Requirement already satisfied: urllib3<1.27,>=1.21.1 in /usr/local/lib/python3.9/dist-packages (from requests->gradio) (1.26.15)\n",
            "Collecting h11>=0.8\n",
            "  Downloading h11-0.14.0-py3-none-any.whl (58 kB)\n",
            "\u001b[2K     \u001b[90m━━━━━━━━━━━━━━━━━━━━━━━━━━━━━━━━━━━━━━━━\u001b[0m \u001b[32m58.3/58.3 kB\u001b[0m \u001b[31m8.5 MB/s\u001b[0m eta \u001b[36m0:00:00\u001b[0m\n",
            "\u001b[?25hRequirement already satisfied: click>=7.0 in /usr/local/lib/python3.9/dist-packages (from uvicorn->gradio) (8.1.3)\n",
            "Requirement already satisfied: anyio<5.0,>=3.0 in /usr/local/lib/python3.9/dist-packages (from httpcore<0.18.0,>=0.15.0->httpx->gradio) (3.6.2)\n",
            "Requirement already satisfied: zipp>=3.1.0 in /usr/local/lib/python3.9/dist-packages (from importlib-resources>=3.2.0->matplotlib->gradio) (3.15.0)\n",
            "Requirement already satisfied: pyrsistent!=0.17.0,!=0.17.1,!=0.17.2,>=0.14.0 in /usr/local/lib/python3.9/dist-packages (from jsonschema>=3.0->altair>=4.2.0->gradio) (0.19.3)\n",
            "Collecting uc-micro-py\n",
            "  Downloading uc_micro_py-1.0.1-py3-none-any.whl (6.2 kB)\n",
            "Requirement already satisfied: six>=1.5 in /usr/local/lib/python3.9/dist-packages (from python-dateutil>=2.8.1->pandas->gradio) (1.16.0)\n",
            "Building wheels for collected packages: ffmpy\n",
            "  Building wheel for ffmpy (setup.py) ... \u001b[?25l\u001b[?25hdone\n",
            "  Created wheel for ffmpy: filename=ffmpy-0.3.0-py3-none-any.whl size=4707 sha256=24eee8e46f871563f262983bd38d818e23ac608162396b0879adb85090da0f08\n",
            "  Stored in directory: /root/.cache/pip/wheels/91/e2/96/f676aa08bfd789328c6576cd0f1fde4a3d686703bb0c247697\n",
            "Successfully built ffmpy\n",
            "Installing collected packages: pydub, ffmpy, websockets, uc-micro-py, semantic-version, python-multipart, orjson, multidict, h11, frozenlist, async-timeout, aiofiles, yarl, uvicorn, starlette, mdit-py-plugins, linkify-it-py, huggingface-hub, httpcore, aiosignal, httpx, fastapi, aiohttp, gradio-client, gradio\n",
            "Successfully installed aiofiles-23.1.0 aiohttp-3.8.4 aiosignal-1.3.1 async-timeout-4.0.2 fastapi-0.95.1 ffmpy-0.3.0 frozenlist-1.3.3 gradio-3.27.0 gradio-client-0.1.3 h11-0.14.0 httpcore-0.17.0 httpx-0.24.0 huggingface-hub-0.13.4 linkify-it-py-2.0.0 mdit-py-plugins-0.3.3 multidict-6.0.4 orjson-3.8.10 pydub-0.25.1 python-multipart-0.0.6 semantic-version-2.10.0 starlette-0.26.1 uc-micro-py-1.0.1 uvicorn-0.21.1 websockets-11.0.1 yarl-1.8.2\n"
          ]
        }
      ],
      "source": [
        "!pip install gradio"
      ]
    },
    {
      "cell_type": "code",
      "execution_count": 75,
      "metadata": {
        "id": "ZB-a0m7RiNsu"
      },
      "outputs": [],
      "source": [
        "def get_top_10(similarities, filtered_df):\n",
        "    # Get the indices of the top 10 highest cosine similarity values\n",
        "    similar_indices = (-similarities[0]).argsort()[:10]\n",
        "    # Get the corresponding texts from your dataframe\n",
        "    similar_blogs = filtered_df.iloc[similar_indices]\n",
        "    return similar_blogs"
      ]
    },
    {
      "cell_type": "code",
      "execution_count": null,
      "metadata": {
        "id": "pgnCxwtrlom7"
      },
      "outputs": [],
      "source": [
        "df['category'].value_counts()"
      ]
    },
    {
      "cell_type": "code",
      "execution_count": 76,
      "metadata": {
        "id": "vKdYpwMbhjXx"
      },
      "outputs": [],
      "source": [
        "def recommend_blogs(user_input):\n",
        "    test = vectorizer.transform([user_input])\n",
        "    prediction = clf.predict(test)\n",
        "    filtered_df = df[df['category'] == prediction[0]]\n",
        "    filtered_df_tr = vectorizer.transform(filtered_df['title'])\n",
        "    similarities = cosine_similarity(test, filtered_df_tr)\n",
        "    similar_blogs = get_top_10(similarities, filtered_df)\n",
        "    return similar_blogs['title'].to_string(index=False), similar_blogs['URL'].to_string(index=False)\n"
      ]
    },
    {
      "cell_type": "code",
      "execution_count": 77,
      "metadata": {
        "colab": {
          "base_uri": "https://localhost:8080/",
          "height": 802
        },
        "id": "QaU3J1Z4hSO9",
        "outputId": "ba93ef2b-d769-4a05-eedc-21d3a1fdfcb1"
      },
      "outputs": [
        {
          "output_type": "stream",
          "name": "stderr",
          "text": [
            "/usr/local/lib/python3.9/dist-packages/gradio/inputs.py:27: UserWarning: Usage of gradio.inputs is deprecated, and will not be supported in the future, please import your component from gradio.components\n",
            "  warnings.warn(\n",
            "/usr/local/lib/python3.9/dist-packages/gradio/deprecation.py:40: UserWarning: `optional` parameter is deprecated, and it has no effect\n",
            "  warnings.warn(value)\n",
            "/usr/local/lib/python3.9/dist-packages/gradio/deprecation.py:40: UserWarning: `numeric` parameter is deprecated, and it has no effect\n",
            "  warnings.warn(value)\n",
            "/usr/local/lib/python3.9/dist-packages/gradio/outputs.py:22: UserWarning: Usage of gradio.outputs is deprecated, and will not be supported in the future, please import your components from gradio.components\n",
            "  warnings.warn(\n"
          ]
        },
        {
          "output_type": "stream",
          "name": "stdout",
          "text": [
            "Colab notebook detected. This cell will run indefinitely so that you can see errors and logs. To turn off, set debug=False in launch().\n",
            "Note: opening Chrome Inspector may crash demo inside Colab notebooks.\n",
            "\n",
            "To create a public link, set `share=True` in `launch()`.\n"
          ]
        },
        {
          "output_type": "display_data",
          "data": {
            "text/plain": [
              "<IPython.core.display.Javascript object>"
            ],
            "application/javascript": [
              "(async (port, path, width, height, cache, element) => {\n",
              "                        if (!google.colab.kernel.accessAllowed && !cache) {\n",
              "                            return;\n",
              "                        }\n",
              "                        element.appendChild(document.createTextNode(''));\n",
              "                        const url = await google.colab.kernel.proxyPort(port, {cache});\n",
              "\n",
              "                        const external_link = document.createElement('div');\n",
              "                        external_link.innerHTML = `\n",
              "                            <div style=\"font-family: monospace; margin-bottom: 0.5rem\">\n",
              "                                Running on <a href=${new URL(path, url).toString()} target=\"_blank\">\n",
              "                                    https://localhost:${port}${path}\n",
              "                                </a>\n",
              "                            </div>\n",
              "                        `;\n",
              "                        element.appendChild(external_link);\n",
              "\n",
              "                        const iframe = document.createElement('iframe');\n",
              "                        iframe.src = new URL(path, url).toString();\n",
              "                        iframe.height = height;\n",
              "                        iframe.allow = \"autoplay; camera; microphone; clipboard-read; clipboard-write;\"\n",
              "                        iframe.width = width;\n",
              "                        iframe.style.border = 0;\n",
              "                        element.appendChild(iframe);\n",
              "                    })(7860, \"/\", \"100%\", 500, false, window.element)"
            ]
          },
          "metadata": {}
        },
        {
          "output_type": "stream",
          "name": "stdout",
          "text": [
            "Keyboard interruption in main thread... closing server.\n"
          ]
        }
      ],
      "source": [
        "import gradio as gr\n",
        "\n",
        "demo = gr.Interface(fn=recommend_blogs, inputs=gr.inputs.Textbox(label=\"Enter keywords:\"), outputs=[gr.outputs.Textbox(label=\"Blog Title\"), gr.outputs.Textbox(label=\"Blog URL\")])\n",
        "\n",
        "if __name__ == \"__main__\":\n",
        "    demo.launch(debug=True)  "
      ]
    }
  ],
  "metadata": {
    "colab": {
      "provenance": []
    },
    "kernelspec": {
      "display_name": "Python 3",
      "name": "python3"
    },
    "language_info": {
      "name": "python"
    },
    "accelerator": "GPU",
    "gpuClass": "standard"
  },
  "nbformat": 4,
  "nbformat_minor": 0
}